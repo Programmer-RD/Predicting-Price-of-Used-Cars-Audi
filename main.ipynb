{
 "cells": [
  {
   "cell_type": "code",
   "execution_count": 28,
   "metadata": {},
   "outputs": [],
   "source": [
    "%matplotlib inline\n",
    "import pandas as pd\n",
    "import numpy as np\n",
    "import matplotlib.pyplot as plt\n",
    "import os\n",
    "import pickle\n",
    "import json"
   ]
  },
  {
   "cell_type": "code",
   "execution_count": 29,
   "metadata": {},
   "outputs": [],
   "source": [
    "data = pd.read_csv('./data/audi.csv')"
   ]
  },
  {
   "cell_type": "code",
   "execution_count": 30,
   "metadata": {},
   "outputs": [
    {
     "data": {
      "text/html": [
       "<div>\n",
       "<style scoped>\n",
       "    .dataframe tbody tr th:only-of-type {\n",
       "        vertical-align: middle;\n",
       "    }\n",
       "\n",
       "    .dataframe tbody tr th {\n",
       "        vertical-align: top;\n",
       "    }\n",
       "\n",
       "    .dataframe thead th {\n",
       "        text-align: right;\n",
       "    }\n",
       "</style>\n",
       "<table border=\"1\" class=\"dataframe\">\n",
       "  <thead>\n",
       "    <tr style=\"text-align: right;\">\n",
       "      <th></th>\n",
       "      <th>model</th>\n",
       "      <th>year</th>\n",
       "      <th>price</th>\n",
       "      <th>transmission</th>\n",
       "      <th>mileage</th>\n",
       "      <th>fuelType</th>\n",
       "      <th>tax</th>\n",
       "      <th>mpg</th>\n",
       "      <th>engineSize</th>\n",
       "    </tr>\n",
       "  </thead>\n",
       "  <tbody>\n",
       "    <tr>\n",
       "      <th>0</th>\n",
       "      <td>A1</td>\n",
       "      <td>2017</td>\n",
       "      <td>12500</td>\n",
       "      <td>Manual</td>\n",
       "      <td>15735</td>\n",
       "      <td>Petrol</td>\n",
       "      <td>150</td>\n",
       "      <td>55.4</td>\n",
       "      <td>1.4</td>\n",
       "    </tr>\n",
       "    <tr>\n",
       "      <th>1</th>\n",
       "      <td>A6</td>\n",
       "      <td>2016</td>\n",
       "      <td>16500</td>\n",
       "      <td>Automatic</td>\n",
       "      <td>36203</td>\n",
       "      <td>Diesel</td>\n",
       "      <td>20</td>\n",
       "      <td>64.2</td>\n",
       "      <td>2.0</td>\n",
       "    </tr>\n",
       "    <tr>\n",
       "      <th>2</th>\n",
       "      <td>A1</td>\n",
       "      <td>2016</td>\n",
       "      <td>11000</td>\n",
       "      <td>Manual</td>\n",
       "      <td>29946</td>\n",
       "      <td>Petrol</td>\n",
       "      <td>30</td>\n",
       "      <td>55.4</td>\n",
       "      <td>1.4</td>\n",
       "    </tr>\n",
       "    <tr>\n",
       "      <th>3</th>\n",
       "      <td>A4</td>\n",
       "      <td>2017</td>\n",
       "      <td>16800</td>\n",
       "      <td>Automatic</td>\n",
       "      <td>25952</td>\n",
       "      <td>Diesel</td>\n",
       "      <td>145</td>\n",
       "      <td>67.3</td>\n",
       "      <td>2.0</td>\n",
       "    </tr>\n",
       "    <tr>\n",
       "      <th>4</th>\n",
       "      <td>A3</td>\n",
       "      <td>2019</td>\n",
       "      <td>17300</td>\n",
       "      <td>Manual</td>\n",
       "      <td>1998</td>\n",
       "      <td>Petrol</td>\n",
       "      <td>145</td>\n",
       "      <td>49.6</td>\n",
       "      <td>1.0</td>\n",
       "    </tr>\n",
       "  </tbody>\n",
       "</table>\n",
       "</div>"
      ],
      "text/plain": [
       "  model  year  price transmission  mileage fuelType  tax   mpg  engineSize\n",
       "0    A1  2017  12500       Manual    15735   Petrol  150  55.4         1.4\n",
       "1    A6  2016  16500    Automatic    36203   Diesel   20  64.2         2.0\n",
       "2    A1  2016  11000       Manual    29946   Petrol   30  55.4         1.4\n",
       "3    A4  2017  16800    Automatic    25952   Diesel  145  67.3         2.0\n",
       "4    A3  2019  17300       Manual     1998   Petrol  145  49.6         1.0"
      ]
     },
     "execution_count": 30,
     "metadata": {},
     "output_type": "execute_result"
    }
   ],
   "source": [
    "data.head()"
   ]
  },
  {
   "cell_type": "code",
   "execution_count": 31,
   "metadata": {},
   "outputs": [
    {
     "data": {
      "text/plain": [
       "10668"
      ]
     },
     "execution_count": 31,
     "metadata": {},
     "output_type": "execute_result"
    }
   ],
   "source": [
    "len(data)"
   ]
  },
  {
   "cell_type": "code",
   "execution_count": 32,
   "metadata": {},
   "outputs": [],
   "source": [
    "df = data[data.model != 'A1']"
   ]
  },
  {
   "cell_type": "code",
   "execution_count": 33,
   "metadata": {},
   "outputs": [
    {
     "data": {
      "text/html": [
       "<div>\n",
       "<style scoped>\n",
       "    .dataframe tbody tr th:only-of-type {\n",
       "        vertical-align: middle;\n",
       "    }\n",
       "\n",
       "    .dataframe tbody tr th {\n",
       "        vertical-align: top;\n",
       "    }\n",
       "\n",
       "    .dataframe thead th {\n",
       "        text-align: right;\n",
       "    }\n",
       "</style>\n",
       "<table border=\"1\" class=\"dataframe\">\n",
       "  <thead>\n",
       "    <tr style=\"text-align: right;\">\n",
       "      <th></th>\n",
       "      <th>year</th>\n",
       "      <th>price</th>\n",
       "      <th>mileage</th>\n",
       "      <th>tax</th>\n",
       "      <th>mpg</th>\n",
       "      <th>engineSize</th>\n",
       "    </tr>\n",
       "  </thead>\n",
       "  <tbody>\n",
       "    <tr>\n",
       "      <th>count</th>\n",
       "      <td>10668.000000</td>\n",
       "      <td>10668.000000</td>\n",
       "      <td>10668.000000</td>\n",
       "      <td>10668.000000</td>\n",
       "      <td>10668.000000</td>\n",
       "      <td>10668.000000</td>\n",
       "    </tr>\n",
       "    <tr>\n",
       "      <th>mean</th>\n",
       "      <td>2017.100675</td>\n",
       "      <td>22896.685039</td>\n",
       "      <td>24827.244001</td>\n",
       "      <td>126.011436</td>\n",
       "      <td>50.770022</td>\n",
       "      <td>1.930709</td>\n",
       "    </tr>\n",
       "    <tr>\n",
       "      <th>std</th>\n",
       "      <td>2.167494</td>\n",
       "      <td>11714.841888</td>\n",
       "      <td>23505.257205</td>\n",
       "      <td>67.170294</td>\n",
       "      <td>12.949782</td>\n",
       "      <td>0.602957</td>\n",
       "    </tr>\n",
       "    <tr>\n",
       "      <th>min</th>\n",
       "      <td>1997.000000</td>\n",
       "      <td>1490.000000</td>\n",
       "      <td>1.000000</td>\n",
       "      <td>0.000000</td>\n",
       "      <td>18.900000</td>\n",
       "      <td>0.000000</td>\n",
       "    </tr>\n",
       "    <tr>\n",
       "      <th>25%</th>\n",
       "      <td>2016.000000</td>\n",
       "      <td>15130.750000</td>\n",
       "      <td>5968.750000</td>\n",
       "      <td>125.000000</td>\n",
       "      <td>40.900000</td>\n",
       "      <td>1.500000</td>\n",
       "    </tr>\n",
       "    <tr>\n",
       "      <th>50%</th>\n",
       "      <td>2017.000000</td>\n",
       "      <td>20200.000000</td>\n",
       "      <td>19000.000000</td>\n",
       "      <td>145.000000</td>\n",
       "      <td>49.600000</td>\n",
       "      <td>2.000000</td>\n",
       "    </tr>\n",
       "    <tr>\n",
       "      <th>75%</th>\n",
       "      <td>2019.000000</td>\n",
       "      <td>27990.000000</td>\n",
       "      <td>36464.500000</td>\n",
       "      <td>145.000000</td>\n",
       "      <td>58.900000</td>\n",
       "      <td>2.000000</td>\n",
       "    </tr>\n",
       "    <tr>\n",
       "      <th>max</th>\n",
       "      <td>2020.000000</td>\n",
       "      <td>145000.000000</td>\n",
       "      <td>323000.000000</td>\n",
       "      <td>580.000000</td>\n",
       "      <td>188.300000</td>\n",
       "      <td>6.300000</td>\n",
       "    </tr>\n",
       "  </tbody>\n",
       "</table>\n",
       "</div>"
      ],
      "text/plain": [
       "               year          price        mileage           tax           mpg  \\\n",
       "count  10668.000000   10668.000000   10668.000000  10668.000000  10668.000000   \n",
       "mean    2017.100675   22896.685039   24827.244001    126.011436     50.770022   \n",
       "std        2.167494   11714.841888   23505.257205     67.170294     12.949782   \n",
       "min     1997.000000    1490.000000       1.000000      0.000000     18.900000   \n",
       "25%     2016.000000   15130.750000    5968.750000    125.000000     40.900000   \n",
       "50%     2017.000000   20200.000000   19000.000000    145.000000     49.600000   \n",
       "75%     2019.000000   27990.000000   36464.500000    145.000000     58.900000   \n",
       "max     2020.000000  145000.000000  323000.000000    580.000000    188.300000   \n",
       "\n",
       "         engineSize  \n",
       "count  10668.000000  \n",
       "mean       1.930709  \n",
       "std        0.602957  \n",
       "min        0.000000  \n",
       "25%        1.500000  \n",
       "50%        2.000000  \n",
       "75%        2.000000  \n",
       "max        6.300000  "
      ]
     },
     "execution_count": 33,
     "metadata": {},
     "output_type": "execute_result"
    }
   ],
   "source": [
    "data.describe()"
   ]
  },
  {
   "cell_type": "code",
   "execution_count": 34,
   "metadata": {},
   "outputs": [
    {
     "data": {
      "text/html": [
       "<div>\n",
       "<style scoped>\n",
       "    .dataframe tbody tr th:only-of-type {\n",
       "        vertical-align: middle;\n",
       "    }\n",
       "\n",
       "    .dataframe tbody tr th {\n",
       "        vertical-align: top;\n",
       "    }\n",
       "\n",
       "    .dataframe thead th {\n",
       "        text-align: right;\n",
       "    }\n",
       "</style>\n",
       "<table border=\"1\" class=\"dataframe\">\n",
       "  <thead>\n",
       "    <tr style=\"text-align: right;\">\n",
       "      <th></th>\n",
       "      <th>model</th>\n",
       "      <th>year</th>\n",
       "      <th>price</th>\n",
       "      <th>transmission</th>\n",
       "      <th>mileage</th>\n",
       "      <th>fuelType</th>\n",
       "      <th>tax</th>\n",
       "      <th>mpg</th>\n",
       "      <th>engineSize</th>\n",
       "    </tr>\n",
       "  </thead>\n",
       "  <tbody>\n",
       "    <tr>\n",
       "      <th>0</th>\n",
       "      <td>A1</td>\n",
       "      <td>2017</td>\n",
       "      <td>12500</td>\n",
       "      <td>Manual</td>\n",
       "      <td>15735</td>\n",
       "      <td>Petrol</td>\n",
       "      <td>150</td>\n",
       "      <td>55.4</td>\n",
       "      <td>1.4</td>\n",
       "    </tr>\n",
       "    <tr>\n",
       "      <th>1</th>\n",
       "      <td>A6</td>\n",
       "      <td>2016</td>\n",
       "      <td>16500</td>\n",
       "      <td>Automatic</td>\n",
       "      <td>36203</td>\n",
       "      <td>Diesel</td>\n",
       "      <td>20</td>\n",
       "      <td>64.2</td>\n",
       "      <td>2.0</td>\n",
       "    </tr>\n",
       "    <tr>\n",
       "      <th>2</th>\n",
       "      <td>A1</td>\n",
       "      <td>2016</td>\n",
       "      <td>11000</td>\n",
       "      <td>Manual</td>\n",
       "      <td>29946</td>\n",
       "      <td>Petrol</td>\n",
       "      <td>30</td>\n",
       "      <td>55.4</td>\n",
       "      <td>1.4</td>\n",
       "    </tr>\n",
       "    <tr>\n",
       "      <th>3</th>\n",
       "      <td>A4</td>\n",
       "      <td>2017</td>\n",
       "      <td>16800</td>\n",
       "      <td>Automatic</td>\n",
       "      <td>25952</td>\n",
       "      <td>Diesel</td>\n",
       "      <td>145</td>\n",
       "      <td>67.3</td>\n",
       "      <td>2.0</td>\n",
       "    </tr>\n",
       "    <tr>\n",
       "      <th>4</th>\n",
       "      <td>A3</td>\n",
       "      <td>2019</td>\n",
       "      <td>17300</td>\n",
       "      <td>Manual</td>\n",
       "      <td>1998</td>\n",
       "      <td>Petrol</td>\n",
       "      <td>145</td>\n",
       "      <td>49.6</td>\n",
       "      <td>1.0</td>\n",
       "    </tr>\n",
       "  </tbody>\n",
       "</table>\n",
       "</div>"
      ],
      "text/plain": [
       "  model  year  price transmission  mileage fuelType  tax   mpg  engineSize\n",
       "0    A1  2017  12500       Manual    15735   Petrol  150  55.4         1.4\n",
       "1    A6  2016  16500    Automatic    36203   Diesel   20  64.2         2.0\n",
       "2    A1  2016  11000       Manual    29946   Petrol   30  55.4         1.4\n",
       "3    A4  2017  16800    Automatic    25952   Diesel  145  67.3         2.0\n",
       "4    A3  2019  17300       Manual     1998   Petrol  145  49.6         1.0"
      ]
     },
     "execution_count": 34,
     "metadata": {},
     "output_type": "execute_result"
    }
   ],
   "source": [
    "df.head()"
   ]
  },
  {
   "cell_type": "code",
   "execution_count": 35,
   "metadata": {},
   "outputs": [
    {
     "data": {
      "text/plain": [
       "model            object\n",
       "year              int64\n",
       "price             int64\n",
       "transmission     object\n",
       "mileage           int64\n",
       "fuelType         object\n",
       "tax               int64\n",
       "mpg             float64\n",
       "engineSize      float64\n",
       "dtype: object"
      ]
     },
     "execution_count": 35,
     "metadata": {},
     "output_type": "execute_result"
    }
   ],
   "source": [
    "data.dtypes"
   ]
  },
  {
   "cell_type": "code",
   "execution_count": 36,
   "metadata": {},
   "outputs": [],
   "source": [
    "df = data[data.year != 2017]"
   ]
  },
  {
   "cell_type": "code",
   "execution_count": 37,
   "metadata": {},
   "outputs": [
    {
     "data": {
      "text/html": [
       "<div>\n",
       "<style scoped>\n",
       "    .dataframe tbody tr th:only-of-type {\n",
       "        vertical-align: middle;\n",
       "    }\n",
       "\n",
       "    .dataframe tbody tr th {\n",
       "        vertical-align: top;\n",
       "    }\n",
       "\n",
       "    .dataframe thead th {\n",
       "        text-align: right;\n",
       "    }\n",
       "</style>\n",
       "<table border=\"1\" class=\"dataframe\">\n",
       "  <thead>\n",
       "    <tr style=\"text-align: right;\">\n",
       "      <th></th>\n",
       "      <th>model</th>\n",
       "      <th>year</th>\n",
       "      <th>price</th>\n",
       "      <th>transmission</th>\n",
       "      <th>mileage</th>\n",
       "      <th>fuelType</th>\n",
       "      <th>tax</th>\n",
       "      <th>mpg</th>\n",
       "      <th>engineSize</th>\n",
       "    </tr>\n",
       "  </thead>\n",
       "  <tbody>\n",
       "    <tr>\n",
       "      <th>1</th>\n",
       "      <td>A6</td>\n",
       "      <td>2016</td>\n",
       "      <td>16500</td>\n",
       "      <td>Automatic</td>\n",
       "      <td>36203</td>\n",
       "      <td>Diesel</td>\n",
       "      <td>20</td>\n",
       "      <td>64.2</td>\n",
       "      <td>2.0</td>\n",
       "    </tr>\n",
       "    <tr>\n",
       "      <th>2</th>\n",
       "      <td>A1</td>\n",
       "      <td>2016</td>\n",
       "      <td>11000</td>\n",
       "      <td>Manual</td>\n",
       "      <td>29946</td>\n",
       "      <td>Petrol</td>\n",
       "      <td>30</td>\n",
       "      <td>55.4</td>\n",
       "      <td>1.4</td>\n",
       "    </tr>\n",
       "    <tr>\n",
       "      <th>4</th>\n",
       "      <td>A3</td>\n",
       "      <td>2019</td>\n",
       "      <td>17300</td>\n",
       "      <td>Manual</td>\n",
       "      <td>1998</td>\n",
       "      <td>Petrol</td>\n",
       "      <td>145</td>\n",
       "      <td>49.6</td>\n",
       "      <td>1.0</td>\n",
       "    </tr>\n",
       "    <tr>\n",
       "      <th>5</th>\n",
       "      <td>A1</td>\n",
       "      <td>2016</td>\n",
       "      <td>13900</td>\n",
       "      <td>Automatic</td>\n",
       "      <td>32260</td>\n",
       "      <td>Petrol</td>\n",
       "      <td>30</td>\n",
       "      <td>58.9</td>\n",
       "      <td>1.4</td>\n",
       "    </tr>\n",
       "    <tr>\n",
       "      <th>6</th>\n",
       "      <td>A6</td>\n",
       "      <td>2016</td>\n",
       "      <td>13250</td>\n",
       "      <td>Automatic</td>\n",
       "      <td>76788</td>\n",
       "      <td>Diesel</td>\n",
       "      <td>30</td>\n",
       "      <td>61.4</td>\n",
       "      <td>2.0</td>\n",
       "    </tr>\n",
       "  </tbody>\n",
       "</table>\n",
       "</div>"
      ],
      "text/plain": [
       "  model  year  price transmission  mileage fuelType  tax   mpg  engineSize\n",
       "1    A6  2016  16500    Automatic    36203   Diesel   20  64.2         2.0\n",
       "2    A1  2016  11000       Manual    29946   Petrol   30  55.4         1.4\n",
       "4    A3  2019  17300       Manual     1998   Petrol  145  49.6         1.0\n",
       "5    A1  2016  13900    Automatic    32260   Petrol   30  58.9         1.4\n",
       "6    A6  2016  13250    Automatic    76788   Diesel   30  61.4         2.0"
      ]
     },
     "execution_count": 37,
     "metadata": {},
     "output_type": "execute_result"
    }
   ],
   "source": [
    "df.head()"
   ]
  },
  {
   "cell_type": "code",
   "execution_count": 38,
   "metadata": {},
   "outputs": [
    {
     "data": {
      "text/plain": [
       "8733"
      ]
     },
     "execution_count": 38,
     "metadata": {},
     "output_type": "execute_result"
    }
   ],
   "source": [
    "len(df)"
   ]
  },
  {
   "cell_type": "code",
   "execution_count": 39,
   "metadata": {},
   "outputs": [
    {
     "data": {
      "text/plain": [
       "10668"
      ]
     },
     "execution_count": 39,
     "metadata": {},
     "output_type": "execute_result"
    }
   ],
   "source": [
    "len(data)"
   ]
  },
  {
   "cell_type": "code",
   "execution_count": 40,
   "metadata": {},
   "outputs": [
    {
     "data": {
      "text/plain": [
       "model           0\n",
       "year            0\n",
       "price           0\n",
       "transmission    0\n",
       "mileage         0\n",
       "fuelType        0\n",
       "tax             0\n",
       "mpg             0\n",
       "engineSize      0\n",
       "dtype: int64"
      ]
     },
     "execution_count": 40,
     "metadata": {},
     "output_type": "execute_result"
    }
   ],
   "source": [
    "data.isna().sum()"
   ]
  },
  {
   "cell_type": "code",
   "execution_count": 41,
   "metadata": {},
   "outputs": [
    {
     "data": {
      "text/plain": [
       "model            object\n",
       "year              int64\n",
       "price             int64\n",
       "transmission     object\n",
       "mileage           int64\n",
       "fuelType         object\n",
       "tax               int64\n",
       "mpg             float64\n",
       "engineSize      float64\n",
       "dtype: object"
      ]
     },
     "execution_count": 41,
     "metadata": {},
     "output_type": "execute_result"
    }
   ],
   "source": [
    "data.dtypes"
   ]
  },
  {
   "cell_type": "code",
   "execution_count": 42,
   "metadata": {},
   "outputs": [],
   "source": [
    "def object_to_int(pd_df_data,coloum:list):\n",
    "    info_indexs = {}\n",
    "    index = -1\n",
    "    for info_in_coloum in pd_df_data[coloum]:\n",
    "        if info_in_coloum not in info_indexs.keys():\n",
    "            index = index + 1\n",
    "            info_indexs[info_in_coloum] = index\n",
    "    print(info_indexs)\n",
    "    print('*'*100)\n",
    "    final_list = []\n",
    "    for all_info_object in pd_df_data[coloum]:\n",
    "        final_list.append(info_indexs[all_info_object])\n",
    "    print(info_indexs)\n",
    "    return final_list,info_indexs"
   ]
  },
  {
   "cell_type": "code",
   "execution_count": 43,
   "metadata": {},
   "outputs": [
    {
     "name": "stdout",
     "output_type": "stream",
     "text": [
      "{' A1': 0, ' A6': 1, ' A4': 2, ' A3': 3, ' Q3': 4, ' Q5': 5, ' A5': 6, ' S4': 7, ' Q2': 8, ' A7': 9, ' TT': 10, ' Q7': 11, ' RS6': 12, ' RS3': 13, ' A8': 14, ' Q8': 15, ' RS4': 16, ' RS5': 17, ' R8': 18, ' SQ5': 19, ' S8': 20, ' SQ7': 21, ' S3': 22, ' S5': 23, ' A2': 24, ' RS7': 25}\n",
      "****************************************************************************************************\n",
      "{' A1': 0, ' A6': 1, ' A4': 2, ' A3': 3, ' Q3': 4, ' Q5': 5, ' A5': 6, ' S4': 7, ' Q2': 8, ' A7': 9, ' TT': 10, ' Q7': 11, ' RS6': 12, ' RS3': 13, ' A8': 14, ' Q8': 15, ' RS4': 16, ' RS5': 17, ' R8': 18, ' SQ5': 19, ' S8': 20, ' SQ7': 21, ' S3': 22, ' S5': 23, ' A2': 24, ' RS7': 25}\n",
      "{' A1': 0, ' A6': 1, ' A4': 2, ' A3': 3, ' Q3': 4, ' Q5': 5, ' A5': 6, ' S4': 7, ' Q2': 8, ' A7': 9, ' TT': 10, ' Q7': 11, ' RS6': 12, ' RS3': 13, ' A8': 14, ' Q8': 15, ' RS4': 16, ' RS5': 17, ' R8': 18, ' SQ5': 19, ' S8': 20, ' SQ7': 21, ' S3': 22, ' S5': 23, ' A2': 24, ' RS7': 25}\n",
      "{' A1': 0, ' A6': 1, ' A4': 2, ' A3': 3, ' Q3': 4, ' Q5': 5, ' A5': 6, ' S4': 7, ' Q2': 8, ' A7': 9, ' TT': 10, ' Q7': 11, ' RS6': 12, ' RS3': 13, ' A8': 14, ' Q8': 15, ' RS4': 16, ' RS5': 17, ' R8': 18, ' SQ5': 19, ' S8': 20, ' SQ7': 21, ' S3': 22, ' S5': 23, ' A2': 24, ' RS7': 25}\n",
      "****************************************************************************************************\n",
      "{' A1': 0, ' A6': 1, ' A4': 2, ' A3': 3, ' Q3': 4, ' Q5': 5, ' A5': 6, ' S4': 7, ' Q2': 8, ' A7': 9, ' TT': 10, ' Q7': 11, ' RS6': 12, ' RS3': 13, ' A8': 14, ' Q8': 15, ' RS4': 16, ' RS5': 17, ' R8': 18, ' SQ5': 19, ' S8': 20, ' SQ7': 21, ' S3': 22, ' S5': 23, ' A2': 24, ' RS7': 25}\n"
     ]
    }
   ],
   "source": [
    "with open('model_info_dict.json','w') as json_file:\n",
    "    info = object_to_int(data,'model')[1]\n",
    "    print(info)\n",
    "    json.dump(info,json_file)\n",
    "data['model'] = object_to_int(data,'model')[0]"
   ]
  },
  {
   "cell_type": "code",
   "execution_count": 44,
   "metadata": {},
   "outputs": [
    {
     "data": {
      "text/plain": [
       "model             int64\n",
       "year              int64\n",
       "price             int64\n",
       "transmission     object\n",
       "mileage           int64\n",
       "fuelType         object\n",
       "tax               int64\n",
       "mpg             float64\n",
       "engineSize      float64\n",
       "dtype: object"
      ]
     },
     "execution_count": 44,
     "metadata": {},
     "output_type": "execute_result"
    }
   ],
   "source": [
    "data.dtypes"
   ]
  },
  {
   "cell_type": "code",
   "execution_count": 45,
   "metadata": {},
   "outputs": [
    {
     "name": "stdout",
     "output_type": "stream",
     "text": [
      "{'Manual': 0, 'Automatic': 1, 'Semi-Auto': 2}\n",
      "****************************************************************************************************\n",
      "{'Manual': 0, 'Automatic': 1, 'Semi-Auto': 2}\n",
      "{'Manual': 0, 'Automatic': 1, 'Semi-Auto': 2}\n",
      "{'Manual': 0, 'Automatic': 1, 'Semi-Auto': 2}\n",
      "****************************************************************************************************\n",
      "{'Manual': 0, 'Automatic': 1, 'Semi-Auto': 2}\n"
     ]
    }
   ],
   "source": [
    "with open('transmission_info_dict.json','w') as json_file:\n",
    "    info = object_to_int(data,'transmission')[1]\n",
    "    print(info)\n",
    "    json.dump(info,json_file)\n",
    "data['transmission'] = object_to_int(data,'transmission')[0]"
   ]
  },
  {
   "cell_type": "code",
   "execution_count": 46,
   "metadata": {},
   "outputs": [
    {
     "name": "stdout",
     "output_type": "stream",
     "text": [
      "{'Petrol': 0, 'Diesel': 1, 'Hybrid': 2}\n",
      "****************************************************************************************************\n",
      "{'Petrol': 0, 'Diesel': 1, 'Hybrid': 2}\n",
      "{'Petrol': 0, 'Diesel': 1, 'Hybrid': 2}\n",
      "{'Petrol': 0, 'Diesel': 1, 'Hybrid': 2}\n",
      "****************************************************************************************************\n",
      "{'Petrol': 0, 'Diesel': 1, 'Hybrid': 2}\n"
     ]
    }
   ],
   "source": [
    "with open('fuelType_info_dict.json','w') as json_file:\n",
    "    info = object_to_int(data,'fuelType')[1]\n",
    "    print(info)\n",
    "    json.dump(info,json_file)\n",
    "data['fuelType'] = object_to_int(data,'fuelType')[0]"
   ]
  },
  {
   "cell_type": "code",
   "execution_count": 47,
   "metadata": {},
   "outputs": [
    {
     "data": {
      "text/plain": [
       "model             int64\n",
       "year              int64\n",
       "price             int64\n",
       "transmission      int64\n",
       "mileage           int64\n",
       "fuelType          int64\n",
       "tax               int64\n",
       "mpg             float64\n",
       "engineSize      float64\n",
       "dtype: object"
      ]
     },
     "execution_count": 47,
     "metadata": {},
     "output_type": "execute_result"
    }
   ],
   "source": [
    "data.dtypes"
   ]
  },
  {
   "cell_type": "code",
   "execution_count": 48,
   "metadata": {
    "scrolled": true
   },
   "outputs": [
    {
     "data": {
      "text/html": [
       "<div>\n",
       "<style scoped>\n",
       "    .dataframe tbody tr th:only-of-type {\n",
       "        vertical-align: middle;\n",
       "    }\n",
       "\n",
       "    .dataframe tbody tr th {\n",
       "        vertical-align: top;\n",
       "    }\n",
       "\n",
       "    .dataframe thead th {\n",
       "        text-align: right;\n",
       "    }\n",
       "</style>\n",
       "<table border=\"1\" class=\"dataframe\">\n",
       "  <thead>\n",
       "    <tr style=\"text-align: right;\">\n",
       "      <th></th>\n",
       "      <th>model</th>\n",
       "      <th>year</th>\n",
       "      <th>price</th>\n",
       "      <th>transmission</th>\n",
       "      <th>mileage</th>\n",
       "      <th>fuelType</th>\n",
       "      <th>tax</th>\n",
       "      <th>mpg</th>\n",
       "      <th>engineSize</th>\n",
       "    </tr>\n",
       "  </thead>\n",
       "  <tbody>\n",
       "    <tr>\n",
       "      <th>0</th>\n",
       "      <td>0</td>\n",
       "      <td>2017</td>\n",
       "      <td>12500</td>\n",
       "      <td>0</td>\n",
       "      <td>15735</td>\n",
       "      <td>0</td>\n",
       "      <td>150</td>\n",
       "      <td>55.4</td>\n",
       "      <td>1.4</td>\n",
       "    </tr>\n",
       "    <tr>\n",
       "      <th>1</th>\n",
       "      <td>1</td>\n",
       "      <td>2016</td>\n",
       "      <td>16500</td>\n",
       "      <td>1</td>\n",
       "      <td>36203</td>\n",
       "      <td>1</td>\n",
       "      <td>20</td>\n",
       "      <td>64.2</td>\n",
       "      <td>2.0</td>\n",
       "    </tr>\n",
       "    <tr>\n",
       "      <th>2</th>\n",
       "      <td>0</td>\n",
       "      <td>2016</td>\n",
       "      <td>11000</td>\n",
       "      <td>0</td>\n",
       "      <td>29946</td>\n",
       "      <td>0</td>\n",
       "      <td>30</td>\n",
       "      <td>55.4</td>\n",
       "      <td>1.4</td>\n",
       "    </tr>\n",
       "    <tr>\n",
       "      <th>3</th>\n",
       "      <td>2</td>\n",
       "      <td>2017</td>\n",
       "      <td>16800</td>\n",
       "      <td>1</td>\n",
       "      <td>25952</td>\n",
       "      <td>1</td>\n",
       "      <td>145</td>\n",
       "      <td>67.3</td>\n",
       "      <td>2.0</td>\n",
       "    </tr>\n",
       "    <tr>\n",
       "      <th>4</th>\n",
       "      <td>3</td>\n",
       "      <td>2019</td>\n",
       "      <td>17300</td>\n",
       "      <td>0</td>\n",
       "      <td>1998</td>\n",
       "      <td>0</td>\n",
       "      <td>145</td>\n",
       "      <td>49.6</td>\n",
       "      <td>1.0</td>\n",
       "    </tr>\n",
       "    <tr>\n",
       "      <th>...</th>\n",
       "      <td>...</td>\n",
       "      <td>...</td>\n",
       "      <td>...</td>\n",
       "      <td>...</td>\n",
       "      <td>...</td>\n",
       "      <td>...</td>\n",
       "      <td>...</td>\n",
       "      <td>...</td>\n",
       "      <td>...</td>\n",
       "    </tr>\n",
       "    <tr>\n",
       "      <th>10663</th>\n",
       "      <td>3</td>\n",
       "      <td>2020</td>\n",
       "      <td>16999</td>\n",
       "      <td>0</td>\n",
       "      <td>4018</td>\n",
       "      <td>0</td>\n",
       "      <td>145</td>\n",
       "      <td>49.6</td>\n",
       "      <td>1.0</td>\n",
       "    </tr>\n",
       "    <tr>\n",
       "      <th>10664</th>\n",
       "      <td>3</td>\n",
       "      <td>2020</td>\n",
       "      <td>16999</td>\n",
       "      <td>0</td>\n",
       "      <td>1978</td>\n",
       "      <td>0</td>\n",
       "      <td>150</td>\n",
       "      <td>49.6</td>\n",
       "      <td>1.0</td>\n",
       "    </tr>\n",
       "    <tr>\n",
       "      <th>10665</th>\n",
       "      <td>3</td>\n",
       "      <td>2020</td>\n",
       "      <td>17199</td>\n",
       "      <td>0</td>\n",
       "      <td>609</td>\n",
       "      <td>0</td>\n",
       "      <td>150</td>\n",
       "      <td>49.6</td>\n",
       "      <td>1.0</td>\n",
       "    </tr>\n",
       "    <tr>\n",
       "      <th>10666</th>\n",
       "      <td>4</td>\n",
       "      <td>2017</td>\n",
       "      <td>19499</td>\n",
       "      <td>1</td>\n",
       "      <td>8646</td>\n",
       "      <td>0</td>\n",
       "      <td>150</td>\n",
       "      <td>47.9</td>\n",
       "      <td>1.4</td>\n",
       "    </tr>\n",
       "    <tr>\n",
       "      <th>10667</th>\n",
       "      <td>4</td>\n",
       "      <td>2016</td>\n",
       "      <td>15999</td>\n",
       "      <td>0</td>\n",
       "      <td>11855</td>\n",
       "      <td>0</td>\n",
       "      <td>150</td>\n",
       "      <td>47.9</td>\n",
       "      <td>1.4</td>\n",
       "    </tr>\n",
       "  </tbody>\n",
       "</table>\n",
       "<p>10668 rows × 9 columns</p>\n",
       "</div>"
      ],
      "text/plain": [
       "       model  year  price  transmission  mileage  fuelType  tax   mpg  \\\n",
       "0          0  2017  12500             0    15735         0  150  55.4   \n",
       "1          1  2016  16500             1    36203         1   20  64.2   \n",
       "2          0  2016  11000             0    29946         0   30  55.4   \n",
       "3          2  2017  16800             1    25952         1  145  67.3   \n",
       "4          3  2019  17300             0     1998         0  145  49.6   \n",
       "...      ...   ...    ...           ...      ...       ...  ...   ...   \n",
       "10663      3  2020  16999             0     4018         0  145  49.6   \n",
       "10664      3  2020  16999             0     1978         0  150  49.6   \n",
       "10665      3  2020  17199             0      609         0  150  49.6   \n",
       "10666      4  2017  19499             1     8646         0  150  47.9   \n",
       "10667      4  2016  15999             0    11855         0  150  47.9   \n",
       "\n",
       "       engineSize  \n",
       "0             1.4  \n",
       "1             2.0  \n",
       "2             1.4  \n",
       "3             2.0  \n",
       "4             1.0  \n",
       "...           ...  \n",
       "10663         1.0  \n",
       "10664         1.0  \n",
       "10665         1.0  \n",
       "10666         1.4  \n",
       "10667         1.4  \n",
       "\n",
       "[10668 rows x 9 columns]"
      ]
     },
     "execution_count": 48,
     "metadata": {},
     "output_type": "execute_result"
    }
   ],
   "source": [
    "data"
   ]
  },
  {
   "cell_type": "code",
   "execution_count": 49,
   "metadata": {},
   "outputs": [],
   "source": [
    "X = data.drop(['price','tax'],axis=1)\n",
    "y = data.drop(['model','year','transmission','mileage','fuelType','mpg','engineSize'],axis=1)"
   ]
  },
  {
   "cell_type": "code",
   "execution_count": 50,
   "metadata": {},
   "outputs": [],
   "source": [
    "from sklearn.svm import SVC,SVR\n",
    "from sklearn.linear_model import Lasso,LassoLars\n",
    "from sklearn.ensemble import RandomForestRegressor"
   ]
  },
  {
   "cell_type": "code",
   "execution_count": 51,
   "metadata": {},
   "outputs": [],
   "source": [
    "model_SVC = SVC()\n",
    "model_SVR = SVR()\n",
    "model_Lasso = Lasso()\n",
    "model_LassoLars = LassoLars()\n",
    "model_RandomForestRegressor = RandomForestRegressor()"
   ]
  },
  {
   "cell_type": "code",
   "execution_count": 52,
   "metadata": {},
   "outputs": [],
   "source": [
    "from sklearn.model_selection import train_test_split\n",
    "X_train,X_test,y_train,y_test = train_test_split(X,y,test_size=0.25)"
   ]
  },
  {
   "cell_type": "code",
   "execution_count": 53,
   "metadata": {},
   "outputs": [
    {
     "name": "stdout",
     "output_type": "stream",
     "text": [
      "0.9004998488785727\n"
     ]
    }
   ],
   "source": [
    "model_RandomForestRegressor.fit(X_train,y_train)\n",
    "print(model_RandomForestRegressor.score(X_test,y_test))"
   ]
  },
  {
   "cell_type": "code",
   "execution_count": 54,
   "metadata": {},
   "outputs": [
    {
     "data": {
      "text/plain": [
       "array([0.89579019, 0.88229133, 0.90899893, 0.91394616, 0.91228303,\n",
       "       0.89912942, 0.9063302 , 0.89054172, 0.89543628, 0.92255473,\n",
       "       0.88935105, 0.91395759, 0.9048165 , 0.88276597, 0.82460994,\n",
       "       0.85237153, 0.88468676, 0.86302956, 0.92607002, 0.91686323,\n",
       "       0.91060337, 0.85861723, 0.91560182, 0.92396582, 0.89674486])"
      ]
     },
     "execution_count": 54,
     "metadata": {},
     "output_type": "execute_result"
    }
   ],
   "source": [
    "from sklearn.model_selection import cross_val_score\n",
    "results = cross_val_score(model_RandomForestRegressor,X,y,cv=25)\n",
    "results"
   ]
  },
  {
   "cell_type": "code",
   "execution_count": 55,
   "metadata": {},
   "outputs": [],
   "source": [
    "y_preds = model_RandomForestRegressor.predict(X_test)"
   ]
  },
  {
   "cell_type": "code",
   "execution_count": 56,
   "metadata": {},
   "outputs": [
    {
     "name": "stdout",
     "output_type": "stream",
     "text": [
      "Classifier Metricks on the test data set\n",
      "MSE : 243109303.80197024\n",
      "MAE : 758.7768465501659\n",
      "R2 Score : 0.9004998488785727\n"
     ]
    }
   ],
   "source": [
    "from sklearn.metrics import r2_score,mean_absolute_error,mean_squared_error\n",
    "# Regression\n",
    "print('Classifier Metricks on the test data set')\n",
    "print(f'MSE : {mean_squared_error(y_test,y_preds)*100}')\n",
    "print(f'MAE : {mean_absolute_error(y_test,y_preds)}')\n",
    "print(f'R2 Score : {r2_score(y_test,y_preds)}')"
   ]
  },
  {
   "cell_type": "code",
   "execution_count": 57,
   "metadata": {},
   "outputs": [
    {
     "name": "stdout",
     "output_type": "stream",
     "text": [
      "Fitting 5 folds for each of 48 candidates, totalling 240 fits\n",
      "[CV] max_depth=None, max_features=auto, min_samples_leaf=3, min_samples_split=3, n_estimators=250 \n"
     ]
    },
    {
     "name": "stderr",
     "output_type": "stream",
     "text": [
      "[Parallel(n_jobs=1)]: Using backend SequentialBackend with 1 concurrent workers.\n"
     ]
    },
    {
     "name": "stdout",
     "output_type": "stream",
     "text": [
      "[CV]  max_depth=None, max_features=auto, min_samples_leaf=3, min_samples_split=3, n_estimators=250, score=0.891, total=   2.9s\n",
      "[CV] max_depth=None, max_features=auto, min_samples_leaf=3, min_samples_split=3, n_estimators=250 \n"
     ]
    },
    {
     "name": "stderr",
     "output_type": "stream",
     "text": [
      "[Parallel(n_jobs=1)]: Done   1 out of   1 | elapsed:    2.9s remaining:    0.0s\n"
     ]
    },
    {
     "name": "stdout",
     "output_type": "stream",
     "text": [
      "[CV]  max_depth=None, max_features=auto, min_samples_leaf=3, min_samples_split=3, n_estimators=250, score=0.902, total=   2.9s\n",
      "[CV] max_depth=None, max_features=auto, min_samples_leaf=3, min_samples_split=3, n_estimators=250 \n"
     ]
    },
    {
     "name": "stderr",
     "output_type": "stream",
     "text": [
      "[Parallel(n_jobs=1)]: Done   2 out of   2 | elapsed:    5.9s remaining:    0.0s\n"
     ]
    },
    {
     "name": "stdout",
     "output_type": "stream",
     "text": [
      "[CV]  max_depth=None, max_features=auto, min_samples_leaf=3, min_samples_split=3, n_estimators=250, score=0.908, total=   2.9s\n",
      "[CV] max_depth=None, max_features=auto, min_samples_leaf=3, min_samples_split=3, n_estimators=250 \n"
     ]
    },
    {
     "name": "stderr",
     "output_type": "stream",
     "text": [
      "[Parallel(n_jobs=1)]: Done   3 out of   3 | elapsed:    8.7s remaining:    0.0s\n"
     ]
    },
    {
     "name": "stdout",
     "output_type": "stream",
     "text": [
      "[CV]  max_depth=None, max_features=auto, min_samples_leaf=3, min_samples_split=3, n_estimators=250, score=0.905, total=   3.0s\n",
      "[CV] max_depth=None, max_features=auto, min_samples_leaf=3, min_samples_split=3, n_estimators=250 \n"
     ]
    },
    {
     "name": "stderr",
     "output_type": "stream",
     "text": [
      "[Parallel(n_jobs=1)]: Done   4 out of   4 | elapsed:   11.7s remaining:    0.0s\n"
     ]
    },
    {
     "name": "stdout",
     "output_type": "stream",
     "text": [
      "[CV]  max_depth=None, max_features=auto, min_samples_leaf=3, min_samples_split=3, n_estimators=250, score=0.904, total=   3.0s\n",
      "[CV] max_depth=None, max_features=auto, min_samples_leaf=3, min_samples_split=3, n_estimators=500 \n",
      "[CV]  max_depth=None, max_features=auto, min_samples_leaf=3, min_samples_split=3, n_estimators=500, score=0.890, total=   6.4s\n",
      "[CV] max_depth=None, max_features=auto, min_samples_leaf=3, min_samples_split=3, n_estimators=500 \n",
      "[CV]  max_depth=None, max_features=auto, min_samples_leaf=3, min_samples_split=3, n_estimators=500, score=0.901, total=   5.9s\n",
      "[CV] max_depth=None, max_features=auto, min_samples_leaf=3, min_samples_split=3, n_estimators=500 \n",
      "[CV]  max_depth=None, max_features=auto, min_samples_leaf=3, min_samples_split=3, n_estimators=500, score=0.909, total=   5.8s\n",
      "[CV] max_depth=None, max_features=auto, min_samples_leaf=3, min_samples_split=3, n_estimators=500 \n",
      "[CV]  max_depth=None, max_features=auto, min_samples_leaf=3, min_samples_split=3, n_estimators=500, score=0.906, total=   5.6s\n",
      "[CV] max_depth=None, max_features=auto, min_samples_leaf=3, min_samples_split=3, n_estimators=500 \n",
      "[CV]  max_depth=None, max_features=auto, min_samples_leaf=3, min_samples_split=3, n_estimators=500, score=0.903, total=   5.9s\n",
      "[CV] max_depth=None, max_features=auto, min_samples_leaf=3, min_samples_split=5, n_estimators=250 \n",
      "[CV]  max_depth=None, max_features=auto, min_samples_leaf=3, min_samples_split=5, n_estimators=250, score=0.891, total=   2.8s\n",
      "[CV] max_depth=None, max_features=auto, min_samples_leaf=3, min_samples_split=5, n_estimators=250 \n",
      "[CV]  max_depth=None, max_features=auto, min_samples_leaf=3, min_samples_split=5, n_estimators=250, score=0.901, total=   2.7s\n",
      "[CV] max_depth=None, max_features=auto, min_samples_leaf=3, min_samples_split=5, n_estimators=250 \n",
      "[CV]  max_depth=None, max_features=auto, min_samples_leaf=3, min_samples_split=5, n_estimators=250, score=0.907, total=   2.7s\n",
      "[CV] max_depth=None, max_features=auto, min_samples_leaf=3, min_samples_split=5, n_estimators=250 \n",
      "[CV]  max_depth=None, max_features=auto, min_samples_leaf=3, min_samples_split=5, n_estimators=250, score=0.905, total=   2.9s\n",
      "[CV] max_depth=None, max_features=auto, min_samples_leaf=3, min_samples_split=5, n_estimators=250 \n",
      "[CV]  max_depth=None, max_features=auto, min_samples_leaf=3, min_samples_split=5, n_estimators=250, score=0.903, total=   2.8s\n",
      "[CV] max_depth=None, max_features=auto, min_samples_leaf=3, min_samples_split=5, n_estimators=500 \n",
      "[CV]  max_depth=None, max_features=auto, min_samples_leaf=3, min_samples_split=5, n_estimators=500, score=0.891, total=   6.0s\n",
      "[CV] max_depth=None, max_features=auto, min_samples_leaf=3, min_samples_split=5, n_estimators=500 \n",
      "[CV]  max_depth=None, max_features=auto, min_samples_leaf=3, min_samples_split=5, n_estimators=500, score=0.901, total=   5.6s\n",
      "[CV] max_depth=None, max_features=auto, min_samples_leaf=3, min_samples_split=5, n_estimators=500 \n",
      "[CV]  max_depth=None, max_features=auto, min_samples_leaf=3, min_samples_split=5, n_estimators=500, score=0.908, total=   5.8s\n",
      "[CV] max_depth=None, max_features=auto, min_samples_leaf=3, min_samples_split=5, n_estimators=500 \n",
      "[CV]  max_depth=None, max_features=auto, min_samples_leaf=3, min_samples_split=5, n_estimators=500, score=0.905, total=   5.7s\n",
      "[CV] max_depth=None, max_features=auto, min_samples_leaf=3, min_samples_split=5, n_estimators=500 \n",
      "[CV]  max_depth=None, max_features=auto, min_samples_leaf=3, min_samples_split=5, n_estimators=500, score=0.904, total=   6.2s\n",
      "[CV] max_depth=None, max_features=auto, min_samples_leaf=5, min_samples_split=3, n_estimators=250 \n",
      "[CV]  max_depth=None, max_features=auto, min_samples_leaf=5, min_samples_split=3, n_estimators=250, score=0.877, total=   2.6s\n",
      "[CV] max_depth=None, max_features=auto, min_samples_leaf=5, min_samples_split=3, n_estimators=250 \n",
      "[CV]  max_depth=None, max_features=auto, min_samples_leaf=5, min_samples_split=3, n_estimators=250, score=0.887, total=   2.7s\n",
      "[CV] max_depth=None, max_features=auto, min_samples_leaf=5, min_samples_split=3, n_estimators=250 \n",
      "[CV]  max_depth=None, max_features=auto, min_samples_leaf=5, min_samples_split=3, n_estimators=250, score=0.889, total=   2.8s\n",
      "[CV] max_depth=None, max_features=auto, min_samples_leaf=5, min_samples_split=3, n_estimators=250 \n",
      "[CV]  max_depth=None, max_features=auto, min_samples_leaf=5, min_samples_split=3, n_estimators=250, score=0.892, total=   2.6s\n",
      "[CV] max_depth=None, max_features=auto, min_samples_leaf=5, min_samples_split=3, n_estimators=250 \n",
      "[CV]  max_depth=None, max_features=auto, min_samples_leaf=5, min_samples_split=3, n_estimators=250, score=0.892, total=   2.7s\n",
      "[CV] max_depth=None, max_features=auto, min_samples_leaf=5, min_samples_split=3, n_estimators=500 \n",
      "[CV]  max_depth=None, max_features=auto, min_samples_leaf=5, min_samples_split=3, n_estimators=500, score=0.876, total=   5.8s\n",
      "[CV] max_depth=None, max_features=auto, min_samples_leaf=5, min_samples_split=3, n_estimators=500 \n",
      "[CV]  max_depth=None, max_features=auto, min_samples_leaf=5, min_samples_split=3, n_estimators=500, score=0.886, total=   5.1s\n",
      "[CV] max_depth=None, max_features=auto, min_samples_leaf=5, min_samples_split=3, n_estimators=500 \n",
      "[CV]  max_depth=None, max_features=auto, min_samples_leaf=5, min_samples_split=3, n_estimators=500, score=0.891, total=   5.3s\n",
      "[CV] max_depth=None, max_features=auto, min_samples_leaf=5, min_samples_split=3, n_estimators=500 \n",
      "[CV]  max_depth=None, max_features=auto, min_samples_leaf=5, min_samples_split=3, n_estimators=500, score=0.891, total=   5.6s\n",
      "[CV] max_depth=None, max_features=auto, min_samples_leaf=5, min_samples_split=3, n_estimators=500 \n",
      "[CV]  max_depth=None, max_features=auto, min_samples_leaf=5, min_samples_split=3, n_estimators=500, score=0.892, total=   6.6s\n",
      "[CV] max_depth=None, max_features=auto, min_samples_leaf=5, min_samples_split=5, n_estimators=250 \n",
      "[CV]  max_depth=None, max_features=auto, min_samples_leaf=5, min_samples_split=5, n_estimators=250, score=0.876, total=   2.9s\n",
      "[CV] max_depth=None, max_features=auto, min_samples_leaf=5, min_samples_split=5, n_estimators=250 \n",
      "[CV]  max_depth=None, max_features=auto, min_samples_leaf=5, min_samples_split=5, n_estimators=250, score=0.888, total=   2.8s\n",
      "[CV] max_depth=None, max_features=auto, min_samples_leaf=5, min_samples_split=5, n_estimators=250 \n",
      "[CV]  max_depth=None, max_features=auto, min_samples_leaf=5, min_samples_split=5, n_estimators=250, score=0.889, total=   2.9s\n",
      "[CV] max_depth=None, max_features=auto, min_samples_leaf=5, min_samples_split=5, n_estimators=250 \n",
      "[CV]  max_depth=None, max_features=auto, min_samples_leaf=5, min_samples_split=5, n_estimators=250, score=0.890, total=   2.7s\n",
      "[CV] max_depth=None, max_features=auto, min_samples_leaf=5, min_samples_split=5, n_estimators=250 \n",
      "[CV]  max_depth=None, max_features=auto, min_samples_leaf=5, min_samples_split=5, n_estimators=250, score=0.892, total=   2.5s\n",
      "[CV] max_depth=None, max_features=auto, min_samples_leaf=5, min_samples_split=5, n_estimators=500 \n",
      "[CV]  max_depth=None, max_features=auto, min_samples_leaf=5, min_samples_split=5, n_estimators=500, score=0.876, total=   5.5s\n",
      "[CV] max_depth=None, max_features=auto, min_samples_leaf=5, min_samples_split=5, n_estimators=500 \n",
      "[CV]  max_depth=None, max_features=auto, min_samples_leaf=5, min_samples_split=5, n_estimators=500, score=0.887, total=   5.0s\n",
      "[CV] max_depth=None, max_features=auto, min_samples_leaf=5, min_samples_split=5, n_estimators=500 \n",
      "[CV]  max_depth=None, max_features=auto, min_samples_leaf=5, min_samples_split=5, n_estimators=500, score=0.890, total=   5.3s\n",
      "[CV] max_depth=None, max_features=auto, min_samples_leaf=5, min_samples_split=5, n_estimators=500 \n",
      "[CV]  max_depth=None, max_features=auto, min_samples_leaf=5, min_samples_split=5, n_estimators=500, score=0.891, total=   5.3s\n",
      "[CV] max_depth=None, max_features=auto, min_samples_leaf=5, min_samples_split=5, n_estimators=500 \n",
      "[CV]  max_depth=None, max_features=auto, min_samples_leaf=5, min_samples_split=5, n_estimators=500, score=0.892, total=   5.9s\n",
      "[CV] max_depth=None, max_features=sqrt, min_samples_leaf=3, min_samples_split=3, n_estimators=250 \n",
      "[CV]  max_depth=None, max_features=sqrt, min_samples_leaf=3, min_samples_split=3, n_estimators=250, score=0.900, total=   1.3s\n",
      "[CV] max_depth=None, max_features=sqrt, min_samples_leaf=3, min_samples_split=3, n_estimators=250 \n"
     ]
    },
    {
     "name": "stdout",
     "output_type": "stream",
     "text": [
      "[CV]  max_depth=None, max_features=sqrt, min_samples_leaf=3, min_samples_split=3, n_estimators=250, score=0.905, total=   1.3s\n",
      "[CV] max_depth=None, max_features=sqrt, min_samples_leaf=3, min_samples_split=3, n_estimators=250 \n",
      "[CV]  max_depth=None, max_features=sqrt, min_samples_leaf=3, min_samples_split=3, n_estimators=250, score=0.916, total=   1.3s\n",
      "[CV] max_depth=None, max_features=sqrt, min_samples_leaf=3, min_samples_split=3, n_estimators=250 \n",
      "[CV]  max_depth=None, max_features=sqrt, min_samples_leaf=3, min_samples_split=3, n_estimators=250, score=0.907, total=   1.4s\n",
      "[CV] max_depth=None, max_features=sqrt, min_samples_leaf=3, min_samples_split=3, n_estimators=250 \n",
      "[CV]  max_depth=None, max_features=sqrt, min_samples_leaf=3, min_samples_split=3, n_estimators=250, score=0.903, total=   1.4s\n",
      "[CV] max_depth=None, max_features=sqrt, min_samples_leaf=3, min_samples_split=3, n_estimators=500 \n",
      "[CV]  max_depth=None, max_features=sqrt, min_samples_leaf=3, min_samples_split=3, n_estimators=500, score=0.901, total=   2.5s\n",
      "[CV] max_depth=None, max_features=sqrt, min_samples_leaf=3, min_samples_split=3, n_estimators=500 \n",
      "[CV]  max_depth=None, max_features=sqrt, min_samples_leaf=3, min_samples_split=3, n_estimators=500, score=0.905, total=   2.5s\n",
      "[CV] max_depth=None, max_features=sqrt, min_samples_leaf=3, min_samples_split=3, n_estimators=500 \n",
      "[CV]  max_depth=None, max_features=sqrt, min_samples_leaf=3, min_samples_split=3, n_estimators=500, score=0.915, total=   2.6s\n",
      "[CV] max_depth=None, max_features=sqrt, min_samples_leaf=3, min_samples_split=3, n_estimators=500 \n",
      "[CV]  max_depth=None, max_features=sqrt, min_samples_leaf=3, min_samples_split=3, n_estimators=500, score=0.906, total=   2.6s\n",
      "[CV] max_depth=None, max_features=sqrt, min_samples_leaf=3, min_samples_split=3, n_estimators=500 \n",
      "[CV]  max_depth=None, max_features=sqrt, min_samples_leaf=3, min_samples_split=3, n_estimators=500, score=0.904, total=   3.0s\n",
      "[CV] max_depth=None, max_features=sqrt, min_samples_leaf=3, min_samples_split=5, n_estimators=250 \n",
      "[CV]  max_depth=None, max_features=sqrt, min_samples_leaf=3, min_samples_split=5, n_estimators=250, score=0.900, total=   1.3s\n",
      "[CV] max_depth=None, max_features=sqrt, min_samples_leaf=3, min_samples_split=5, n_estimators=250 \n",
      "[CV]  max_depth=None, max_features=sqrt, min_samples_leaf=3, min_samples_split=5, n_estimators=250, score=0.904, total=   1.3s\n",
      "[CV] max_depth=None, max_features=sqrt, min_samples_leaf=3, min_samples_split=5, n_estimators=250 \n",
      "[CV]  max_depth=None, max_features=sqrt, min_samples_leaf=3, min_samples_split=5, n_estimators=250, score=0.913, total=   1.2s\n",
      "[CV] max_depth=None, max_features=sqrt, min_samples_leaf=3, min_samples_split=5, n_estimators=250 \n",
      "[CV]  max_depth=None, max_features=sqrt, min_samples_leaf=3, min_samples_split=5, n_estimators=250, score=0.909, total=   1.2s\n",
      "[CV] max_depth=None, max_features=sqrt, min_samples_leaf=3, min_samples_split=5, n_estimators=250 \n",
      "[CV]  max_depth=None, max_features=sqrt, min_samples_leaf=3, min_samples_split=5, n_estimators=250, score=0.903, total=   1.3s\n",
      "[CV] max_depth=None, max_features=sqrt, min_samples_leaf=3, min_samples_split=5, n_estimators=500 \n",
      "[CV]  max_depth=None, max_features=sqrt, min_samples_leaf=3, min_samples_split=5, n_estimators=500, score=0.900, total=   2.6s\n",
      "[CV] max_depth=None, max_features=sqrt, min_samples_leaf=3, min_samples_split=5, n_estimators=500 \n",
      "[CV]  max_depth=None, max_features=sqrt, min_samples_leaf=3, min_samples_split=5, n_estimators=500, score=0.905, total=   2.7s\n",
      "[CV] max_depth=None, max_features=sqrt, min_samples_leaf=3, min_samples_split=5, n_estimators=500 \n",
      "[CV]  max_depth=None, max_features=sqrt, min_samples_leaf=3, min_samples_split=5, n_estimators=500, score=0.915, total=   2.6s\n",
      "[CV] max_depth=None, max_features=sqrt, min_samples_leaf=3, min_samples_split=5, n_estimators=500 \n",
      "[CV]  max_depth=None, max_features=sqrt, min_samples_leaf=3, min_samples_split=5, n_estimators=500, score=0.907, total=   2.7s\n",
      "[CV] max_depth=None, max_features=sqrt, min_samples_leaf=3, min_samples_split=5, n_estimators=500 \n",
      "[CV]  max_depth=None, max_features=sqrt, min_samples_leaf=3, min_samples_split=5, n_estimators=500, score=0.904, total=   3.1s\n",
      "[CV] max_depth=None, max_features=sqrt, min_samples_leaf=5, min_samples_split=3, n_estimators=250 \n",
      "[CV]  max_depth=None, max_features=sqrt, min_samples_leaf=5, min_samples_split=3, n_estimators=250, score=0.888, total=   1.3s\n",
      "[CV] max_depth=None, max_features=sqrt, min_samples_leaf=5, min_samples_split=3, n_estimators=250 \n",
      "[CV]  max_depth=None, max_features=sqrt, min_samples_leaf=5, min_samples_split=3, n_estimators=250, score=0.890, total=   1.2s\n",
      "[CV] max_depth=None, max_features=sqrt, min_samples_leaf=5, min_samples_split=3, n_estimators=250 \n",
      "[CV]  max_depth=None, max_features=sqrt, min_samples_leaf=5, min_samples_split=3, n_estimators=250, score=0.903, total=   1.2s\n",
      "[CV] max_depth=None, max_features=sqrt, min_samples_leaf=5, min_samples_split=3, n_estimators=250 \n",
      "[CV]  max_depth=None, max_features=sqrt, min_samples_leaf=5, min_samples_split=3, n_estimators=250, score=0.897, total=   1.2s\n",
      "[CV] max_depth=None, max_features=sqrt, min_samples_leaf=5, min_samples_split=3, n_estimators=250 \n",
      "[CV]  max_depth=None, max_features=sqrt, min_samples_leaf=5, min_samples_split=3, n_estimators=250, score=0.891, total=   1.2s\n",
      "[CV] max_depth=None, max_features=sqrt, min_samples_leaf=5, min_samples_split=3, n_estimators=500 \n",
      "[CV]  max_depth=None, max_features=sqrt, min_samples_leaf=5, min_samples_split=3, n_estimators=500, score=0.889, total=   2.4s\n",
      "[CV] max_depth=None, max_features=sqrt, min_samples_leaf=5, min_samples_split=3, n_estimators=500 \n",
      "[CV]  max_depth=None, max_features=sqrt, min_samples_leaf=5, min_samples_split=3, n_estimators=500, score=0.892, total=   2.3s\n",
      "[CV] max_depth=None, max_features=sqrt, min_samples_leaf=5, min_samples_split=3, n_estimators=500 \n",
      "[CV]  max_depth=None, max_features=sqrt, min_samples_leaf=5, min_samples_split=3, n_estimators=500, score=0.904, total=   2.4s\n",
      "[CV] max_depth=None, max_features=sqrt, min_samples_leaf=5, min_samples_split=3, n_estimators=500 \n",
      "[CV]  max_depth=None, max_features=sqrt, min_samples_leaf=5, min_samples_split=3, n_estimators=500, score=0.895, total=   2.3s\n",
      "[CV] max_depth=None, max_features=sqrt, min_samples_leaf=5, min_samples_split=3, n_estimators=500 \n",
      "[CV]  max_depth=None, max_features=sqrt, min_samples_leaf=5, min_samples_split=3, n_estimators=500, score=0.891, total=   2.3s\n",
      "[CV] max_depth=None, max_features=sqrt, min_samples_leaf=5, min_samples_split=5, n_estimators=250 \n",
      "[CV]  max_depth=None, max_features=sqrt, min_samples_leaf=5, min_samples_split=5, n_estimators=250, score=0.887, total=   1.2s\n",
      "[CV] max_depth=None, max_features=sqrt, min_samples_leaf=5, min_samples_split=5, n_estimators=250 \n",
      "[CV]  max_depth=None, max_features=sqrt, min_samples_leaf=5, min_samples_split=5, n_estimators=250, score=0.890, total=   1.4s\n",
      "[CV] max_depth=None, max_features=sqrt, min_samples_leaf=5, min_samples_split=5, n_estimators=250 \n",
      "[CV]  max_depth=None, max_features=sqrt, min_samples_leaf=5, min_samples_split=5, n_estimators=250, score=0.903, total=   1.5s\n",
      "[CV] max_depth=None, max_features=sqrt, min_samples_leaf=5, min_samples_split=5, n_estimators=250 \n",
      "[CV]  max_depth=None, max_features=sqrt, min_samples_leaf=5, min_samples_split=5, n_estimators=250, score=0.895, total=   1.3s\n",
      "[CV] max_depth=None, max_features=sqrt, min_samples_leaf=5, min_samples_split=5, n_estimators=250 \n",
      "[CV]  max_depth=None, max_features=sqrt, min_samples_leaf=5, min_samples_split=5, n_estimators=250, score=0.891, total=   1.3s\n",
      "[CV] max_depth=None, max_features=sqrt, min_samples_leaf=5, min_samples_split=5, n_estimators=500 \n",
      "[CV]  max_depth=None, max_features=sqrt, min_samples_leaf=5, min_samples_split=5, n_estimators=500, score=0.889, total=   2.4s\n",
      "[CV] max_depth=None, max_features=sqrt, min_samples_leaf=5, min_samples_split=5, n_estimators=500 \n",
      "[CV]  max_depth=None, max_features=sqrt, min_samples_leaf=5, min_samples_split=5, n_estimators=500, score=0.891, total=   2.5s\n",
      "[CV] max_depth=None, max_features=sqrt, min_samples_leaf=5, min_samples_split=5, n_estimators=500 \n",
      "[CV]  max_depth=None, max_features=sqrt, min_samples_leaf=5, min_samples_split=5, n_estimators=500, score=0.903, total=   2.5s\n",
      "[CV] max_depth=None, max_features=sqrt, min_samples_leaf=5, min_samples_split=5, n_estimators=500 \n"
     ]
    },
    {
     "name": "stdout",
     "output_type": "stream",
     "text": [
      "[CV]  max_depth=None, max_features=sqrt, min_samples_leaf=5, min_samples_split=5, n_estimators=500, score=0.896, total=   2.5s\n",
      "[CV] max_depth=None, max_features=sqrt, min_samples_leaf=5, min_samples_split=5, n_estimators=500 \n",
      "[CV]  max_depth=None, max_features=sqrt, min_samples_leaf=5, min_samples_split=5, n_estimators=500, score=0.892, total=   2.6s\n",
      "[CV] max_depth=5, max_features=auto, min_samples_leaf=3, min_samples_split=3, n_estimators=250 \n",
      "[CV]  max_depth=5, max_features=auto, min_samples_leaf=3, min_samples_split=3, n_estimators=250, score=0.708, total=   1.6s\n",
      "[CV] max_depth=5, max_features=auto, min_samples_leaf=3, min_samples_split=3, n_estimators=250 \n",
      "[CV]  max_depth=5, max_features=auto, min_samples_leaf=3, min_samples_split=3, n_estimators=250, score=0.742, total=   1.5s\n",
      "[CV] max_depth=5, max_features=auto, min_samples_leaf=3, min_samples_split=3, n_estimators=250 \n",
      "[CV]  max_depth=5, max_features=auto, min_samples_leaf=3, min_samples_split=3, n_estimators=250, score=0.739, total=   1.8s\n",
      "[CV] max_depth=5, max_features=auto, min_samples_leaf=3, min_samples_split=3, n_estimators=250 \n",
      "[CV]  max_depth=5, max_features=auto, min_samples_leaf=3, min_samples_split=3, n_estimators=250, score=0.729, total=   1.5s\n",
      "[CV] max_depth=5, max_features=auto, min_samples_leaf=3, min_samples_split=3, n_estimators=250 \n",
      "[CV]  max_depth=5, max_features=auto, min_samples_leaf=3, min_samples_split=3, n_estimators=250, score=0.730, total=   1.4s\n",
      "[CV] max_depth=5, max_features=auto, min_samples_leaf=3, min_samples_split=3, n_estimators=500 \n",
      "[CV]  max_depth=5, max_features=auto, min_samples_leaf=3, min_samples_split=3, n_estimators=500, score=0.707, total=   3.0s\n",
      "[CV] max_depth=5, max_features=auto, min_samples_leaf=3, min_samples_split=3, n_estimators=500 \n",
      "[CV]  max_depth=5, max_features=auto, min_samples_leaf=3, min_samples_split=3, n_estimators=500, score=0.740, total=   2.9s\n",
      "[CV] max_depth=5, max_features=auto, min_samples_leaf=3, min_samples_split=3, n_estimators=500 \n",
      "[CV]  max_depth=5, max_features=auto, min_samples_leaf=3, min_samples_split=3, n_estimators=500, score=0.740, total=   3.0s\n",
      "[CV] max_depth=5, max_features=auto, min_samples_leaf=3, min_samples_split=3, n_estimators=500 \n",
      "[CV]  max_depth=5, max_features=auto, min_samples_leaf=3, min_samples_split=3, n_estimators=500, score=0.731, total=   3.0s\n",
      "[CV] max_depth=5, max_features=auto, min_samples_leaf=3, min_samples_split=3, n_estimators=500 \n",
      "[CV]  max_depth=5, max_features=auto, min_samples_leaf=3, min_samples_split=3, n_estimators=500, score=0.730, total=   3.1s\n",
      "[CV] max_depth=5, max_features=auto, min_samples_leaf=3, min_samples_split=5, n_estimators=250 \n",
      "[CV]  max_depth=5, max_features=auto, min_samples_leaf=3, min_samples_split=5, n_estimators=250, score=0.711, total=   1.5s\n",
      "[CV] max_depth=5, max_features=auto, min_samples_leaf=3, min_samples_split=5, n_estimators=250 \n",
      "[CV]  max_depth=5, max_features=auto, min_samples_leaf=3, min_samples_split=5, n_estimators=250, score=0.740, total=   1.9s\n",
      "[CV] max_depth=5, max_features=auto, min_samples_leaf=3, min_samples_split=5, n_estimators=250 \n",
      "[CV]  max_depth=5, max_features=auto, min_samples_leaf=3, min_samples_split=5, n_estimators=250, score=0.741, total=   1.5s\n",
      "[CV] max_depth=5, max_features=auto, min_samples_leaf=3, min_samples_split=5, n_estimators=250 \n",
      "[CV]  max_depth=5, max_features=auto, min_samples_leaf=3, min_samples_split=5, n_estimators=250, score=0.730, total=   1.5s\n",
      "[CV] max_depth=5, max_features=auto, min_samples_leaf=3, min_samples_split=5, n_estimators=250 \n",
      "[CV]  max_depth=5, max_features=auto, min_samples_leaf=3, min_samples_split=5, n_estimators=250, score=0.729, total=   1.5s\n",
      "[CV] max_depth=5, max_features=auto, min_samples_leaf=3, min_samples_split=5, n_estimators=500 \n",
      "[CV]  max_depth=5, max_features=auto, min_samples_leaf=3, min_samples_split=5, n_estimators=500, score=0.707, total=   3.0s\n",
      "[CV] max_depth=5, max_features=auto, min_samples_leaf=3, min_samples_split=5, n_estimators=500 \n",
      "[CV]  max_depth=5, max_features=auto, min_samples_leaf=3, min_samples_split=5, n_estimators=500, score=0.739, total=   3.0s\n",
      "[CV] max_depth=5, max_features=auto, min_samples_leaf=3, min_samples_split=5, n_estimators=500 \n",
      "[CV]  max_depth=5, max_features=auto, min_samples_leaf=3, min_samples_split=5, n_estimators=500, score=0.739, total=   3.2s\n",
      "[CV] max_depth=5, max_features=auto, min_samples_leaf=3, min_samples_split=5, n_estimators=500 \n",
      "[CV]  max_depth=5, max_features=auto, min_samples_leaf=3, min_samples_split=5, n_estimators=500, score=0.729, total=   3.1s\n",
      "[CV] max_depth=5, max_features=auto, min_samples_leaf=3, min_samples_split=5, n_estimators=500 \n",
      "[CV]  max_depth=5, max_features=auto, min_samples_leaf=3, min_samples_split=5, n_estimators=500, score=0.729, total=   3.5s\n",
      "[CV] max_depth=5, max_features=auto, min_samples_leaf=5, min_samples_split=3, n_estimators=250 \n",
      "[CV]  max_depth=5, max_features=auto, min_samples_leaf=5, min_samples_split=3, n_estimators=250, score=0.699, total=   1.6s\n",
      "[CV] max_depth=5, max_features=auto, min_samples_leaf=5, min_samples_split=3, n_estimators=250 \n",
      "[CV]  max_depth=5, max_features=auto, min_samples_leaf=5, min_samples_split=3, n_estimators=250, score=0.735, total=   1.6s\n",
      "[CV] max_depth=5, max_features=auto, min_samples_leaf=5, min_samples_split=3, n_estimators=250 \n",
      "[CV]  max_depth=5, max_features=auto, min_samples_leaf=5, min_samples_split=3, n_estimators=250, score=0.730, total=   1.4s\n",
      "[CV] max_depth=5, max_features=auto, min_samples_leaf=5, min_samples_split=3, n_estimators=250 \n",
      "[CV]  max_depth=5, max_features=auto, min_samples_leaf=5, min_samples_split=3, n_estimators=250, score=0.725, total=   1.4s\n",
      "[CV] max_depth=5, max_features=auto, min_samples_leaf=5, min_samples_split=3, n_estimators=250 \n",
      "[CV]  max_depth=5, max_features=auto, min_samples_leaf=5, min_samples_split=3, n_estimators=250, score=0.725, total=   1.4s\n",
      "[CV] max_depth=5, max_features=auto, min_samples_leaf=5, min_samples_split=3, n_estimators=500 \n",
      "[CV]  max_depth=5, max_features=auto, min_samples_leaf=5, min_samples_split=3, n_estimators=500, score=0.703, total=   2.9s\n",
      "[CV] max_depth=5, max_features=auto, min_samples_leaf=5, min_samples_split=3, n_estimators=500 \n",
      "[CV]  max_depth=5, max_features=auto, min_samples_leaf=5, min_samples_split=3, n_estimators=500, score=0.736, total=   2.9s\n",
      "[CV] max_depth=5, max_features=auto, min_samples_leaf=5, min_samples_split=3, n_estimators=500 \n",
      "[CV]  max_depth=5, max_features=auto, min_samples_leaf=5, min_samples_split=3, n_estimators=500, score=0.731, total=   2.8s\n",
      "[CV] max_depth=5, max_features=auto, min_samples_leaf=5, min_samples_split=3, n_estimators=500 \n",
      "[CV]  max_depth=5, max_features=auto, min_samples_leaf=5, min_samples_split=3, n_estimators=500, score=0.727, total=   2.9s\n",
      "[CV] max_depth=5, max_features=auto, min_samples_leaf=5, min_samples_split=3, n_estimators=500 \n",
      "[CV]  max_depth=5, max_features=auto, min_samples_leaf=5, min_samples_split=3, n_estimators=500, score=0.726, total=   3.4s\n",
      "[CV] max_depth=5, max_features=auto, min_samples_leaf=5, min_samples_split=5, n_estimators=250 \n",
      "[CV]  max_depth=5, max_features=auto, min_samples_leaf=5, min_samples_split=5, n_estimators=250, score=0.700, total=   1.5s\n",
      "[CV] max_depth=5, max_features=auto, min_samples_leaf=5, min_samples_split=5, n_estimators=250 \n",
      "[CV]  max_depth=5, max_features=auto, min_samples_leaf=5, min_samples_split=5, n_estimators=250, score=0.730, total=   1.6s\n",
      "[CV] max_depth=5, max_features=auto, min_samples_leaf=5, min_samples_split=5, n_estimators=250 \n",
      "[CV]  max_depth=5, max_features=auto, min_samples_leaf=5, min_samples_split=5, n_estimators=250, score=0.727, total=   1.7s\n",
      "[CV] max_depth=5, max_features=auto, min_samples_leaf=5, min_samples_split=5, n_estimators=250 \n",
      "[CV]  max_depth=5, max_features=auto, min_samples_leaf=5, min_samples_split=5, n_estimators=250, score=0.724, total=   1.8s\n",
      "[CV] max_depth=5, max_features=auto, min_samples_leaf=5, min_samples_split=5, n_estimators=250 \n",
      "[CV]  max_depth=5, max_features=auto, min_samples_leaf=5, min_samples_split=5, n_estimators=250, score=0.724, total=   1.7s\n",
      "[CV] max_depth=5, max_features=auto, min_samples_leaf=5, min_samples_split=5, n_estimators=500 \n",
      "[CV]  max_depth=5, max_features=auto, min_samples_leaf=5, min_samples_split=5, n_estimators=500, score=0.702, total=   3.0s\n",
      "[CV] max_depth=5, max_features=auto, min_samples_leaf=5, min_samples_split=5, n_estimators=500 \n"
     ]
    },
    {
     "name": "stdout",
     "output_type": "stream",
     "text": [
      "[CV]  max_depth=5, max_features=auto, min_samples_leaf=5, min_samples_split=5, n_estimators=500, score=0.735, total=   3.4s\n",
      "[CV] max_depth=5, max_features=auto, min_samples_leaf=5, min_samples_split=5, n_estimators=500 \n",
      "[CV]  max_depth=5, max_features=auto, min_samples_leaf=5, min_samples_split=5, n_estimators=500, score=0.730, total=   3.2s\n",
      "[CV] max_depth=5, max_features=auto, min_samples_leaf=5, min_samples_split=5, n_estimators=500 \n",
      "[CV]  max_depth=5, max_features=auto, min_samples_leaf=5, min_samples_split=5, n_estimators=500, score=0.726, total=   3.4s\n",
      "[CV] max_depth=5, max_features=auto, min_samples_leaf=5, min_samples_split=5, n_estimators=500 \n",
      "[CV]  max_depth=5, max_features=auto, min_samples_leaf=5, min_samples_split=5, n_estimators=500, score=0.726, total=   2.9s\n",
      "[CV] max_depth=5, max_features=sqrt, min_samples_leaf=3, min_samples_split=3, n_estimators=250 \n",
      "[CV]  max_depth=5, max_features=sqrt, min_samples_leaf=3, min_samples_split=3, n_estimators=250, score=0.773, total=   0.7s\n",
      "[CV] max_depth=5, max_features=sqrt, min_samples_leaf=3, min_samples_split=3, n_estimators=250 \n",
      "[CV]  max_depth=5, max_features=sqrt, min_samples_leaf=3, min_samples_split=3, n_estimators=250, score=0.789, total=   0.7s\n",
      "[CV] max_depth=5, max_features=sqrt, min_samples_leaf=3, min_samples_split=3, n_estimators=250 \n",
      "[CV]  max_depth=5, max_features=sqrt, min_samples_leaf=3, min_samples_split=3, n_estimators=250, score=0.788, total=   0.7s\n",
      "[CV] max_depth=5, max_features=sqrt, min_samples_leaf=3, min_samples_split=3, n_estimators=250 \n",
      "[CV]  max_depth=5, max_features=sqrt, min_samples_leaf=3, min_samples_split=3, n_estimators=250, score=0.791, total=   0.7s\n",
      "[CV] max_depth=5, max_features=sqrt, min_samples_leaf=3, min_samples_split=3, n_estimators=250 \n",
      "[CV]  max_depth=5, max_features=sqrt, min_samples_leaf=3, min_samples_split=3, n_estimators=250, score=0.782, total=   0.7s\n",
      "[CV] max_depth=5, max_features=sqrt, min_samples_leaf=3, min_samples_split=3, n_estimators=500 \n",
      "[CV]  max_depth=5, max_features=sqrt, min_samples_leaf=3, min_samples_split=3, n_estimators=500, score=0.772, total=   1.4s\n",
      "[CV] max_depth=5, max_features=sqrt, min_samples_leaf=3, min_samples_split=3, n_estimators=500 \n",
      "[CV]  max_depth=5, max_features=sqrt, min_samples_leaf=3, min_samples_split=3, n_estimators=500, score=0.791, total=   1.4s\n",
      "[CV] max_depth=5, max_features=sqrt, min_samples_leaf=3, min_samples_split=3, n_estimators=500 \n",
      "[CV]  max_depth=5, max_features=sqrt, min_samples_leaf=3, min_samples_split=3, n_estimators=500, score=0.793, total=   1.4s\n",
      "[CV] max_depth=5, max_features=sqrt, min_samples_leaf=3, min_samples_split=3, n_estimators=500 \n",
      "[CV]  max_depth=5, max_features=sqrt, min_samples_leaf=3, min_samples_split=3, n_estimators=500, score=0.788, total=   1.4s\n",
      "[CV] max_depth=5, max_features=sqrt, min_samples_leaf=3, min_samples_split=3, n_estimators=500 \n",
      "[CV]  max_depth=5, max_features=sqrt, min_samples_leaf=3, min_samples_split=3, n_estimators=500, score=0.781, total=   1.4s\n",
      "[CV] max_depth=5, max_features=sqrt, min_samples_leaf=3, min_samples_split=5, n_estimators=250 \n",
      "[CV]  max_depth=5, max_features=sqrt, min_samples_leaf=3, min_samples_split=5, n_estimators=250, score=0.777, total=   0.7s\n",
      "[CV] max_depth=5, max_features=sqrt, min_samples_leaf=3, min_samples_split=5, n_estimators=250 \n",
      "[CV]  max_depth=5, max_features=sqrt, min_samples_leaf=3, min_samples_split=5, n_estimators=250, score=0.795, total=   0.7s\n",
      "[CV] max_depth=5, max_features=sqrt, min_samples_leaf=3, min_samples_split=5, n_estimators=250 \n",
      "[CV]  max_depth=5, max_features=sqrt, min_samples_leaf=3, min_samples_split=5, n_estimators=250, score=0.791, total=   0.7s\n",
      "[CV] max_depth=5, max_features=sqrt, min_samples_leaf=3, min_samples_split=5, n_estimators=250 \n",
      "[CV]  max_depth=5, max_features=sqrt, min_samples_leaf=3, min_samples_split=5, n_estimators=250, score=0.783, total=   0.7s\n",
      "[CV] max_depth=5, max_features=sqrt, min_samples_leaf=3, min_samples_split=5, n_estimators=250 \n",
      "[CV]  max_depth=5, max_features=sqrt, min_samples_leaf=3, min_samples_split=5, n_estimators=250, score=0.781, total=   0.7s\n",
      "[CV] max_depth=5, max_features=sqrt, min_samples_leaf=3, min_samples_split=5, n_estimators=500 \n",
      "[CV]  max_depth=5, max_features=sqrt, min_samples_leaf=3, min_samples_split=5, n_estimators=500, score=0.774, total=   1.4s\n",
      "[CV] max_depth=5, max_features=sqrt, min_samples_leaf=3, min_samples_split=5, n_estimators=500 \n",
      "[CV]  max_depth=5, max_features=sqrt, min_samples_leaf=3, min_samples_split=5, n_estimators=500, score=0.797, total=   1.8s\n",
      "[CV] max_depth=5, max_features=sqrt, min_samples_leaf=3, min_samples_split=5, n_estimators=500 \n",
      "[CV]  max_depth=5, max_features=sqrt, min_samples_leaf=3, min_samples_split=5, n_estimators=500, score=0.791, total=   1.3s\n",
      "[CV] max_depth=5, max_features=sqrt, min_samples_leaf=3, min_samples_split=5, n_estimators=500 \n",
      "[CV]  max_depth=5, max_features=sqrt, min_samples_leaf=3, min_samples_split=5, n_estimators=500, score=0.788, total=   1.4s\n",
      "[CV] max_depth=5, max_features=sqrt, min_samples_leaf=3, min_samples_split=5, n_estimators=500 \n",
      "[CV]  max_depth=5, max_features=sqrt, min_samples_leaf=3, min_samples_split=5, n_estimators=500, score=0.781, total=   1.4s\n",
      "[CV] max_depth=5, max_features=sqrt, min_samples_leaf=5, min_samples_split=3, n_estimators=250 \n",
      "[CV]  max_depth=5, max_features=sqrt, min_samples_leaf=5, min_samples_split=3, n_estimators=250, score=0.771, total=   0.7s\n",
      "[CV] max_depth=5, max_features=sqrt, min_samples_leaf=5, min_samples_split=3, n_estimators=250 \n",
      "[CV]  max_depth=5, max_features=sqrt, min_samples_leaf=5, min_samples_split=3, n_estimators=250, score=0.797, total=   0.7s\n",
      "[CV] max_depth=5, max_features=sqrt, min_samples_leaf=5, min_samples_split=3, n_estimators=250 \n",
      "[CV]  max_depth=5, max_features=sqrt, min_samples_leaf=5, min_samples_split=3, n_estimators=250, score=0.789, total=   0.7s\n",
      "[CV] max_depth=5, max_features=sqrt, min_samples_leaf=5, min_samples_split=3, n_estimators=250 \n",
      "[CV]  max_depth=5, max_features=sqrt, min_samples_leaf=5, min_samples_split=3, n_estimators=250, score=0.787, total=   0.7s\n",
      "[CV] max_depth=5, max_features=sqrt, min_samples_leaf=5, min_samples_split=3, n_estimators=250 \n",
      "[CV]  max_depth=5, max_features=sqrt, min_samples_leaf=5, min_samples_split=3, n_estimators=250, score=0.780, total=   0.7s\n",
      "[CV] max_depth=5, max_features=sqrt, min_samples_leaf=5, min_samples_split=3, n_estimators=500 \n",
      "[CV]  max_depth=5, max_features=sqrt, min_samples_leaf=5, min_samples_split=3, n_estimators=500, score=0.776, total=   1.4s\n",
      "[CV] max_depth=5, max_features=sqrt, min_samples_leaf=5, min_samples_split=3, n_estimators=500 \n",
      "[CV]  max_depth=5, max_features=sqrt, min_samples_leaf=5, min_samples_split=3, n_estimators=500, score=0.791, total=   1.5s\n",
      "[CV] max_depth=5, max_features=sqrt, min_samples_leaf=5, min_samples_split=3, n_estimators=500 \n",
      "[CV]  max_depth=5, max_features=sqrt, min_samples_leaf=5, min_samples_split=3, n_estimators=500, score=0.790, total=   1.5s\n",
      "[CV] max_depth=5, max_features=sqrt, min_samples_leaf=5, min_samples_split=3, n_estimators=500 \n",
      "[CV]  max_depth=5, max_features=sqrt, min_samples_leaf=5, min_samples_split=3, n_estimators=500, score=0.786, total=   1.5s\n",
      "[CV] max_depth=5, max_features=sqrt, min_samples_leaf=5, min_samples_split=3, n_estimators=500 \n",
      "[CV]  max_depth=5, max_features=sqrt, min_samples_leaf=5, min_samples_split=3, n_estimators=500, score=0.779, total=   1.4s\n",
      "[CV] max_depth=5, max_features=sqrt, min_samples_leaf=5, min_samples_split=5, n_estimators=250 \n",
      "[CV]  max_depth=5, max_features=sqrt, min_samples_leaf=5, min_samples_split=5, n_estimators=250, score=0.774, total=   0.7s\n",
      "[CV] max_depth=5, max_features=sqrt, min_samples_leaf=5, min_samples_split=5, n_estimators=250 \n",
      "[CV]  max_depth=5, max_features=sqrt, min_samples_leaf=5, min_samples_split=5, n_estimators=250, score=0.795, total=   0.7s\n",
      "[CV] max_depth=5, max_features=sqrt, min_samples_leaf=5, min_samples_split=5, n_estimators=250 \n",
      "[CV]  max_depth=5, max_features=sqrt, min_samples_leaf=5, min_samples_split=5, n_estimators=250, score=0.788, total=   0.7s\n",
      "[CV] max_depth=5, max_features=sqrt, min_samples_leaf=5, min_samples_split=5, n_estimators=250 \n",
      "[CV]  max_depth=5, max_features=sqrt, min_samples_leaf=5, min_samples_split=5, n_estimators=250, score=0.783, total=   0.8s\n",
      "[CV] max_depth=5, max_features=sqrt, min_samples_leaf=5, min_samples_split=5, n_estimators=250 \n"
     ]
    },
    {
     "name": "stdout",
     "output_type": "stream",
     "text": [
      "[CV]  max_depth=5, max_features=sqrt, min_samples_leaf=5, min_samples_split=5, n_estimators=250, score=0.778, total=   0.7s\n",
      "[CV] max_depth=5, max_features=sqrt, min_samples_leaf=5, min_samples_split=5, n_estimators=500 \n",
      "[CV]  max_depth=5, max_features=sqrt, min_samples_leaf=5, min_samples_split=5, n_estimators=500, score=0.771, total=   1.7s\n",
      "[CV] max_depth=5, max_features=sqrt, min_samples_leaf=5, min_samples_split=5, n_estimators=500 \n",
      "[CV]  max_depth=5, max_features=sqrt, min_samples_leaf=5, min_samples_split=5, n_estimators=500, score=0.793, total=   1.6s\n",
      "[CV] max_depth=5, max_features=sqrt, min_samples_leaf=5, min_samples_split=5, n_estimators=500 \n",
      "[CV]  max_depth=5, max_features=sqrt, min_samples_leaf=5, min_samples_split=5, n_estimators=500, score=0.794, total=   1.3s\n",
      "[CV] max_depth=5, max_features=sqrt, min_samples_leaf=5, min_samples_split=5, n_estimators=500 \n",
      "[CV]  max_depth=5, max_features=sqrt, min_samples_leaf=5, min_samples_split=5, n_estimators=500, score=0.790, total=   1.3s\n",
      "[CV] max_depth=5, max_features=sqrt, min_samples_leaf=5, min_samples_split=5, n_estimators=500 \n",
      "[CV]  max_depth=5, max_features=sqrt, min_samples_leaf=5, min_samples_split=5, n_estimators=500, score=0.779, total=   1.5s\n",
      "[CV] max_depth=10, max_features=auto, min_samples_leaf=3, min_samples_split=3, n_estimators=250 \n",
      "[CV]  max_depth=10, max_features=auto, min_samples_leaf=3, min_samples_split=3, n_estimators=250, score=0.868, total=   2.5s\n",
      "[CV] max_depth=10, max_features=auto, min_samples_leaf=3, min_samples_split=3, n_estimators=250 \n",
      "[CV]  max_depth=10, max_features=auto, min_samples_leaf=3, min_samples_split=3, n_estimators=250, score=0.882, total=   2.5s\n",
      "[CV] max_depth=10, max_features=auto, min_samples_leaf=3, min_samples_split=3, n_estimators=250 \n",
      "[CV]  max_depth=10, max_features=auto, min_samples_leaf=3, min_samples_split=3, n_estimators=250, score=0.883, total=   2.5s\n",
      "[CV] max_depth=10, max_features=auto, min_samples_leaf=3, min_samples_split=3, n_estimators=250 \n",
      "[CV]  max_depth=10, max_features=auto, min_samples_leaf=3, min_samples_split=3, n_estimators=250, score=0.884, total=   2.5s\n",
      "[CV] max_depth=10, max_features=auto, min_samples_leaf=3, min_samples_split=3, n_estimators=250 \n",
      "[CV]  max_depth=10, max_features=auto, min_samples_leaf=3, min_samples_split=3, n_estimators=250, score=0.881, total=   2.5s\n",
      "[CV] max_depth=10, max_features=auto, min_samples_leaf=3, min_samples_split=3, n_estimators=500 \n",
      "[CV]  max_depth=10, max_features=auto, min_samples_leaf=3, min_samples_split=3, n_estimators=500, score=0.868, total=   5.6s\n",
      "[CV] max_depth=10, max_features=auto, min_samples_leaf=3, min_samples_split=3, n_estimators=500 \n",
      "[CV]  max_depth=10, max_features=auto, min_samples_leaf=3, min_samples_split=3, n_estimators=500, score=0.883, total=   5.7s\n",
      "[CV] max_depth=10, max_features=auto, min_samples_leaf=3, min_samples_split=3, n_estimators=500 \n",
      "[CV]  max_depth=10, max_features=auto, min_samples_leaf=3, min_samples_split=3, n_estimators=500, score=0.882, total=   5.3s\n",
      "[CV] max_depth=10, max_features=auto, min_samples_leaf=3, min_samples_split=3, n_estimators=500 \n",
      "[CV]  max_depth=10, max_features=auto, min_samples_leaf=3, min_samples_split=3, n_estimators=500, score=0.883, total=   5.1s\n",
      "[CV] max_depth=10, max_features=auto, min_samples_leaf=3, min_samples_split=3, n_estimators=500 \n",
      "[CV]  max_depth=10, max_features=auto, min_samples_leaf=3, min_samples_split=3, n_estimators=500, score=0.881, total=   5.6s\n",
      "[CV] max_depth=10, max_features=auto, min_samples_leaf=3, min_samples_split=5, n_estimators=250 \n",
      "[CV]  max_depth=10, max_features=auto, min_samples_leaf=3, min_samples_split=5, n_estimators=250, score=0.868, total=   2.5s\n",
      "[CV] max_depth=10, max_features=auto, min_samples_leaf=3, min_samples_split=5, n_estimators=250 \n",
      "[CV]  max_depth=10, max_features=auto, min_samples_leaf=3, min_samples_split=5, n_estimators=250, score=0.883, total=   2.5s\n",
      "[CV] max_depth=10, max_features=auto, min_samples_leaf=3, min_samples_split=5, n_estimators=250 \n",
      "[CV]  max_depth=10, max_features=auto, min_samples_leaf=3, min_samples_split=5, n_estimators=250, score=0.883, total=   2.7s\n",
      "[CV] max_depth=10, max_features=auto, min_samples_leaf=3, min_samples_split=5, n_estimators=250 \n",
      "[CV]  max_depth=10, max_features=auto, min_samples_leaf=3, min_samples_split=5, n_estimators=250, score=0.883, total=   2.5s\n",
      "[CV] max_depth=10, max_features=auto, min_samples_leaf=3, min_samples_split=5, n_estimators=250 \n",
      "[CV]  max_depth=10, max_features=auto, min_samples_leaf=3, min_samples_split=5, n_estimators=250, score=0.881, total=   2.6s\n",
      "[CV] max_depth=10, max_features=auto, min_samples_leaf=3, min_samples_split=5, n_estimators=500 \n",
      "[CV]  max_depth=10, max_features=auto, min_samples_leaf=3, min_samples_split=5, n_estimators=500, score=0.869, total=   5.2s\n",
      "[CV] max_depth=10, max_features=auto, min_samples_leaf=3, min_samples_split=5, n_estimators=500 \n",
      "[CV]  max_depth=10, max_features=auto, min_samples_leaf=3, min_samples_split=5, n_estimators=500, score=0.883, total=   5.6s\n",
      "[CV] max_depth=10, max_features=auto, min_samples_leaf=3, min_samples_split=5, n_estimators=500 \n",
      "[CV]  max_depth=10, max_features=auto, min_samples_leaf=3, min_samples_split=5, n_estimators=500, score=0.884, total=   4.7s\n",
      "[CV] max_depth=10, max_features=auto, min_samples_leaf=3, min_samples_split=5, n_estimators=500 \n",
      "[CV]  max_depth=10, max_features=auto, min_samples_leaf=3, min_samples_split=5, n_estimators=500, score=0.883, total=   5.1s\n",
      "[CV] max_depth=10, max_features=auto, min_samples_leaf=3, min_samples_split=5, n_estimators=500 \n",
      "[CV]  max_depth=10, max_features=auto, min_samples_leaf=3, min_samples_split=5, n_estimators=500, score=0.882, total=   5.2s\n",
      "[CV] max_depth=10, max_features=auto, min_samples_leaf=5, min_samples_split=3, n_estimators=250 \n",
      "[CV]  max_depth=10, max_features=auto, min_samples_leaf=5, min_samples_split=3, n_estimators=250, score=0.858, total=   2.8s\n",
      "[CV] max_depth=10, max_features=auto, min_samples_leaf=5, min_samples_split=3, n_estimators=250 \n",
      "[CV]  max_depth=10, max_features=auto, min_samples_leaf=5, min_samples_split=3, n_estimators=250, score=0.873, total=   2.9s\n",
      "[CV] max_depth=10, max_features=auto, min_samples_leaf=5, min_samples_split=3, n_estimators=250 \n",
      "[CV]  max_depth=10, max_features=auto, min_samples_leaf=5, min_samples_split=3, n_estimators=250, score=0.871, total=   2.7s\n",
      "[CV] max_depth=10, max_features=auto, min_samples_leaf=5, min_samples_split=3, n_estimators=250 \n",
      "[CV]  max_depth=10, max_features=auto, min_samples_leaf=5, min_samples_split=3, n_estimators=250, score=0.874, total=   2.8s\n",
      "[CV] max_depth=10, max_features=auto, min_samples_leaf=5, min_samples_split=3, n_estimators=250 \n",
      "[CV]  max_depth=10, max_features=auto, min_samples_leaf=5, min_samples_split=3, n_estimators=250, score=0.876, total=   2.5s\n",
      "[CV] max_depth=10, max_features=auto, min_samples_leaf=5, min_samples_split=3, n_estimators=500 \n",
      "[CV]  max_depth=10, max_features=auto, min_samples_leaf=5, min_samples_split=3, n_estimators=500, score=0.857, total=   5.0s\n",
      "[CV] max_depth=10, max_features=auto, min_samples_leaf=5, min_samples_split=3, n_estimators=500 \n",
      "[CV]  max_depth=10, max_features=auto, min_samples_leaf=5, min_samples_split=3, n_estimators=500, score=0.873, total=   5.1s\n",
      "[CV] max_depth=10, max_features=auto, min_samples_leaf=5, min_samples_split=3, n_estimators=500 \n",
      "[CV]  max_depth=10, max_features=auto, min_samples_leaf=5, min_samples_split=3, n_estimators=500, score=0.869, total=   5.3s\n",
      "[CV] max_depth=10, max_features=auto, min_samples_leaf=5, min_samples_split=3, n_estimators=500 \n",
      "[CV]  max_depth=10, max_features=auto, min_samples_leaf=5, min_samples_split=3, n_estimators=500, score=0.874, total=   5.6s\n",
      "[CV] max_depth=10, max_features=auto, min_samples_leaf=5, min_samples_split=3, n_estimators=500 \n",
      "[CV]  max_depth=10, max_features=auto, min_samples_leaf=5, min_samples_split=3, n_estimators=500, score=0.875, total=   5.2s\n",
      "[CV] max_depth=10, max_features=auto, min_samples_leaf=5, min_samples_split=5, n_estimators=250 \n",
      "[CV]  max_depth=10, max_features=auto, min_samples_leaf=5, min_samples_split=5, n_estimators=250, score=0.858, total=   2.5s\n",
      "[CV] max_depth=10, max_features=auto, min_samples_leaf=5, min_samples_split=5, n_estimators=250 \n"
     ]
    },
    {
     "name": "stdout",
     "output_type": "stream",
     "text": [
      "[CV]  max_depth=10, max_features=auto, min_samples_leaf=5, min_samples_split=5, n_estimators=250, score=0.872, total=   3.1s\n",
      "[CV] max_depth=10, max_features=auto, min_samples_leaf=5, min_samples_split=5, n_estimators=250 \n",
      "[CV]  max_depth=10, max_features=auto, min_samples_leaf=5, min_samples_split=5, n_estimators=250, score=0.869, total=   2.6s\n",
      "[CV] max_depth=10, max_features=auto, min_samples_leaf=5, min_samples_split=5, n_estimators=250 \n",
      "[CV]  max_depth=10, max_features=auto, min_samples_leaf=5, min_samples_split=5, n_estimators=250, score=0.872, total=   2.7s\n",
      "[CV] max_depth=10, max_features=auto, min_samples_leaf=5, min_samples_split=5, n_estimators=250 \n",
      "[CV]  max_depth=10, max_features=auto, min_samples_leaf=5, min_samples_split=5, n_estimators=250, score=0.877, total=   2.5s\n",
      "[CV] max_depth=10, max_features=auto, min_samples_leaf=5, min_samples_split=5, n_estimators=500 \n",
      "[CV]  max_depth=10, max_features=auto, min_samples_leaf=5, min_samples_split=5, n_estimators=500, score=0.859, total=   5.3s\n",
      "[CV] max_depth=10, max_features=auto, min_samples_leaf=5, min_samples_split=5, n_estimators=500 \n",
      "[CV]  max_depth=10, max_features=auto, min_samples_leaf=5, min_samples_split=5, n_estimators=500, score=0.871, total=   5.6s\n",
      "[CV] max_depth=10, max_features=auto, min_samples_leaf=5, min_samples_split=5, n_estimators=500 \n",
      "[CV]  max_depth=10, max_features=auto, min_samples_leaf=5, min_samples_split=5, n_estimators=500, score=0.871, total=   5.5s\n",
      "[CV] max_depth=10, max_features=auto, min_samples_leaf=5, min_samples_split=5, n_estimators=500 \n",
      "[CV]  max_depth=10, max_features=auto, min_samples_leaf=5, min_samples_split=5, n_estimators=500, score=0.873, total=   5.2s\n",
      "[CV] max_depth=10, max_features=auto, min_samples_leaf=5, min_samples_split=5, n_estimators=500 \n",
      "[CV]  max_depth=10, max_features=auto, min_samples_leaf=5, min_samples_split=5, n_estimators=500, score=0.875, total=   5.6s\n",
      "[CV] max_depth=10, max_features=sqrt, min_samples_leaf=3, min_samples_split=3, n_estimators=250 \n",
      "[CV]  max_depth=10, max_features=sqrt, min_samples_leaf=3, min_samples_split=3, n_estimators=250, score=0.882, total=   1.2s\n",
      "[CV] max_depth=10, max_features=sqrt, min_samples_leaf=3, min_samples_split=3, n_estimators=250 \n",
      "[CV]  max_depth=10, max_features=sqrt, min_samples_leaf=3, min_samples_split=3, n_estimators=250, score=0.889, total=   1.2s\n",
      "[CV] max_depth=10, max_features=sqrt, min_samples_leaf=3, min_samples_split=3, n_estimators=250 \n",
      "[CV]  max_depth=10, max_features=sqrt, min_samples_leaf=3, min_samples_split=3, n_estimators=250, score=0.894, total=   1.1s\n",
      "[CV] max_depth=10, max_features=sqrt, min_samples_leaf=3, min_samples_split=3, n_estimators=250 \n",
      "[CV]  max_depth=10, max_features=sqrt, min_samples_leaf=3, min_samples_split=3, n_estimators=250, score=0.890, total=   1.2s\n",
      "[CV] max_depth=10, max_features=sqrt, min_samples_leaf=3, min_samples_split=3, n_estimators=250 \n",
      "[CV]  max_depth=10, max_features=sqrt, min_samples_leaf=3, min_samples_split=3, n_estimators=250, score=0.884, total=   1.2s\n",
      "[CV] max_depth=10, max_features=sqrt, min_samples_leaf=3, min_samples_split=3, n_estimators=500 \n",
      "[CV]  max_depth=10, max_features=sqrt, min_samples_leaf=3, min_samples_split=3, n_estimators=500, score=0.881, total=   2.8s\n",
      "[CV] max_depth=10, max_features=sqrt, min_samples_leaf=3, min_samples_split=3, n_estimators=500 \n",
      "[CV]  max_depth=10, max_features=sqrt, min_samples_leaf=3, min_samples_split=3, n_estimators=500, score=0.890, total=   2.5s\n",
      "[CV] max_depth=10, max_features=sqrt, min_samples_leaf=3, min_samples_split=3, n_estimators=500 \n",
      "[CV]  max_depth=10, max_features=sqrt, min_samples_leaf=3, min_samples_split=3, n_estimators=500, score=0.893, total=   2.4s\n",
      "[CV] max_depth=10, max_features=sqrt, min_samples_leaf=3, min_samples_split=3, n_estimators=500 \n",
      "[CV]  max_depth=10, max_features=sqrt, min_samples_leaf=3, min_samples_split=3, n_estimators=500, score=0.890, total=   2.4s\n",
      "[CV] max_depth=10, max_features=sqrt, min_samples_leaf=3, min_samples_split=3, n_estimators=500 \n",
      "[CV]  max_depth=10, max_features=sqrt, min_samples_leaf=3, min_samples_split=3, n_estimators=500, score=0.885, total=   2.3s\n",
      "[CV] max_depth=10, max_features=sqrt, min_samples_leaf=3, min_samples_split=5, n_estimators=250 \n",
      "[CV]  max_depth=10, max_features=sqrt, min_samples_leaf=3, min_samples_split=5, n_estimators=250, score=0.878, total=   1.2s\n",
      "[CV] max_depth=10, max_features=sqrt, min_samples_leaf=3, min_samples_split=5, n_estimators=250 \n",
      "[CV]  max_depth=10, max_features=sqrt, min_samples_leaf=3, min_samples_split=5, n_estimators=250, score=0.889, total=   1.2s\n",
      "[CV] max_depth=10, max_features=sqrt, min_samples_leaf=3, min_samples_split=5, n_estimators=250 \n",
      "[CV]  max_depth=10, max_features=sqrt, min_samples_leaf=3, min_samples_split=5, n_estimators=250, score=0.893, total=   1.3s\n",
      "[CV] max_depth=10, max_features=sqrt, min_samples_leaf=3, min_samples_split=5, n_estimators=250 \n",
      "[CV]  max_depth=10, max_features=sqrt, min_samples_leaf=3, min_samples_split=5, n_estimators=250, score=0.889, total=   1.3s\n",
      "[CV] max_depth=10, max_features=sqrt, min_samples_leaf=3, min_samples_split=5, n_estimators=250 \n",
      "[CV]  max_depth=10, max_features=sqrt, min_samples_leaf=3, min_samples_split=5, n_estimators=250, score=0.885, total=   1.2s\n",
      "[CV] max_depth=10, max_features=sqrt, min_samples_leaf=3, min_samples_split=5, n_estimators=500 \n",
      "[CV]  max_depth=10, max_features=sqrt, min_samples_leaf=3, min_samples_split=5, n_estimators=500, score=0.880, total=   2.6s\n",
      "[CV] max_depth=10, max_features=sqrt, min_samples_leaf=3, min_samples_split=5, n_estimators=500 \n",
      "[CV]  max_depth=10, max_features=sqrt, min_samples_leaf=3, min_samples_split=5, n_estimators=500, score=0.889, total=   2.6s\n",
      "[CV] max_depth=10, max_features=sqrt, min_samples_leaf=3, min_samples_split=5, n_estimators=500 \n",
      "[CV]  max_depth=10, max_features=sqrt, min_samples_leaf=3, min_samples_split=5, n_estimators=500, score=0.893, total=   2.3s\n",
      "[CV] max_depth=10, max_features=sqrt, min_samples_leaf=3, min_samples_split=5, n_estimators=500 \n",
      "[CV]  max_depth=10, max_features=sqrt, min_samples_leaf=3, min_samples_split=5, n_estimators=500, score=0.891, total=   2.3s\n",
      "[CV] max_depth=10, max_features=sqrt, min_samples_leaf=3, min_samples_split=5, n_estimators=500 \n",
      "[CV]  max_depth=10, max_features=sqrt, min_samples_leaf=3, min_samples_split=5, n_estimators=500, score=0.885, total=   2.2s\n",
      "[CV] max_depth=10, max_features=sqrt, min_samples_leaf=5, min_samples_split=3, n_estimators=250 \n",
      "[CV]  max_depth=10, max_features=sqrt, min_samples_leaf=5, min_samples_split=3, n_estimators=250, score=0.873, total=   1.2s\n",
      "[CV] max_depth=10, max_features=sqrt, min_samples_leaf=5, min_samples_split=3, n_estimators=250 \n",
      "[CV]  max_depth=10, max_features=sqrt, min_samples_leaf=5, min_samples_split=3, n_estimators=250, score=0.879, total=   1.2s\n",
      "[CV] max_depth=10, max_features=sqrt, min_samples_leaf=5, min_samples_split=3, n_estimators=250 \n",
      "[CV]  max_depth=10, max_features=sqrt, min_samples_leaf=5, min_samples_split=3, n_estimators=250, score=0.889, total=   1.2s\n",
      "[CV] max_depth=10, max_features=sqrt, min_samples_leaf=5, min_samples_split=3, n_estimators=250 \n",
      "[CV]  max_depth=10, max_features=sqrt, min_samples_leaf=5, min_samples_split=3, n_estimators=250, score=0.884, total=   1.2s\n",
      "[CV] max_depth=10, max_features=sqrt, min_samples_leaf=5, min_samples_split=3, n_estimators=250 \n",
      "[CV]  max_depth=10, max_features=sqrt, min_samples_leaf=5, min_samples_split=3, n_estimators=250, score=0.878, total=   1.3s\n",
      "[CV] max_depth=10, max_features=sqrt, min_samples_leaf=5, min_samples_split=3, n_estimators=500 \n",
      "[CV]  max_depth=10, max_features=sqrt, min_samples_leaf=5, min_samples_split=3, n_estimators=500, score=0.874, total=   2.4s\n",
      "[CV] max_depth=10, max_features=sqrt, min_samples_leaf=5, min_samples_split=3, n_estimators=500 \n",
      "[CV]  max_depth=10, max_features=sqrt, min_samples_leaf=5, min_samples_split=3, n_estimators=500, score=0.879, total=   2.4s\n",
      "[CV] max_depth=10, max_features=sqrt, min_samples_leaf=5, min_samples_split=3, n_estimators=500 \n",
      "[CV]  max_depth=10, max_features=sqrt, min_samples_leaf=5, min_samples_split=3, n_estimators=500, score=0.887, total=   2.7s\n",
      "[CV] max_depth=10, max_features=sqrt, min_samples_leaf=5, min_samples_split=3, n_estimators=500 \n"
     ]
    },
    {
     "name": "stdout",
     "output_type": "stream",
     "text": [
      "[CV]  max_depth=10, max_features=sqrt, min_samples_leaf=5, min_samples_split=3, n_estimators=500, score=0.883, total=   2.4s\n",
      "[CV] max_depth=10, max_features=sqrt, min_samples_leaf=5, min_samples_split=3, n_estimators=500 \n",
      "[CV]  max_depth=10, max_features=sqrt, min_samples_leaf=5, min_samples_split=3, n_estimators=500, score=0.877, total=   2.4s\n",
      "[CV] max_depth=10, max_features=sqrt, min_samples_leaf=5, min_samples_split=5, n_estimators=250 \n",
      "[CV]  max_depth=10, max_features=sqrt, min_samples_leaf=5, min_samples_split=5, n_estimators=250, score=0.873, total=   1.1s\n",
      "[CV] max_depth=10, max_features=sqrt, min_samples_leaf=5, min_samples_split=5, n_estimators=250 \n",
      "[CV]  max_depth=10, max_features=sqrt, min_samples_leaf=5, min_samples_split=5, n_estimators=250, score=0.881, total=   1.1s\n",
      "[CV] max_depth=10, max_features=sqrt, min_samples_leaf=5, min_samples_split=5, n_estimators=250 \n",
      "[CV]  max_depth=10, max_features=sqrt, min_samples_leaf=5, min_samples_split=5, n_estimators=250, score=0.886, total=   1.1s\n",
      "[CV] max_depth=10, max_features=sqrt, min_samples_leaf=5, min_samples_split=5, n_estimators=250 \n",
      "[CV]  max_depth=10, max_features=sqrt, min_samples_leaf=5, min_samples_split=5, n_estimators=250, score=0.883, total=   1.1s\n",
      "[CV] max_depth=10, max_features=sqrt, min_samples_leaf=5, min_samples_split=5, n_estimators=250 \n",
      "[CV]  max_depth=10, max_features=sqrt, min_samples_leaf=5, min_samples_split=5, n_estimators=250, score=0.876, total=   1.1s\n",
      "[CV] max_depth=10, max_features=sqrt, min_samples_leaf=5, min_samples_split=5, n_estimators=500 \n",
      "[CV]  max_depth=10, max_features=sqrt, min_samples_leaf=5, min_samples_split=5, n_estimators=500, score=0.874, total=   2.5s\n",
      "[CV] max_depth=10, max_features=sqrt, min_samples_leaf=5, min_samples_split=5, n_estimators=500 \n",
      "[CV]  max_depth=10, max_features=sqrt, min_samples_leaf=5, min_samples_split=5, n_estimators=500, score=0.880, total=   2.5s\n",
      "[CV] max_depth=10, max_features=sqrt, min_samples_leaf=5, min_samples_split=5, n_estimators=500 \n",
      "[CV]  max_depth=10, max_features=sqrt, min_samples_leaf=5, min_samples_split=5, n_estimators=500, score=0.888, total=   2.2s\n",
      "[CV] max_depth=10, max_features=sqrt, min_samples_leaf=5, min_samples_split=5, n_estimators=500 \n",
      "[CV]  max_depth=10, max_features=sqrt, min_samples_leaf=5, min_samples_split=5, n_estimators=500, score=0.884, total=   2.7s\n",
      "[CV] max_depth=10, max_features=sqrt, min_samples_leaf=5, min_samples_split=5, n_estimators=500 \n",
      "[CV]  max_depth=10, max_features=sqrt, min_samples_leaf=5, min_samples_split=5, n_estimators=500, score=0.877, total=   2.3s\n"
     ]
    },
    {
     "name": "stderr",
     "output_type": "stream",
     "text": [
      "[Parallel(n_jobs=1)]: Done 240 out of 240 | elapsed: 10.3min finished\n"
     ]
    },
    {
     "data": {
      "text/plain": [
       "0.907051425616213"
      ]
     },
     "execution_count": 57,
     "metadata": {},
     "output_type": "execute_result"
    }
   ],
   "source": [
    "from sklearn.model_selection import GridSearchCV\n",
    "grid = {\n",
    "    \"n_estimators\":[250,500],\n",
    "    \"max_depth\":[None,5,10],\n",
    "    \"max_features\":[\"auto\",\"sqrt\"],\n",
    "    \"min_samples_split\":[3,5],\n",
    "    \"min_samples_leaf\":[3,5]\n",
    "}\n",
    "np.random.seed(42)\n",
    "model_RandomForestRegressor = RandomForestRegressor()\n",
    "# Randomized Sarch CV\n",
    "gs_regressor = GridSearchCV(estimator=model_RandomForestRegressor,\n",
    "                            param_grid=grid,\n",
    "                            cv=5,\n",
    "                            verbose=5)\n",
    "gs_regressor.fit(X_train,y_train)\n",
    "gs_regressor.best_estimator_\n",
    "gs_regressor.score(X_test,y_test)"
   ]
  },
  {
   "cell_type": "code",
   "execution_count": 58,
   "metadata": {},
   "outputs": [
    {
     "name": "stdout",
     "output_type": "stream",
     "text": [
      "MSE : 274115112.27696\n",
      "MAE : 787.8134660193166\n",
      "R2 Score : 0.907051425616213\n"
     ]
    }
   ],
   "source": [
    "# gs_regressor.fit(X_train,y_train)\n",
    "y_preds = gs_regressor.predict(X_test)\n",
    "print(f'MSE : {mean_squared_error(y_test,y_preds)*100}')\n",
    "print(f'MAE : {mean_absolute_error(y_test,y_preds)}')\n",
    "print(f'R2 Score : {r2_score(y_test,y_preds)}')"
   ]
  },
  {
   "cell_type": "code",
   "execution_count": 59,
   "metadata": {},
   "outputs": [],
   "source": [
    "normal = {\"MSE\":510.520773745,\"MAE\":148.446522692,\"R2 Score\":96.510412023}"
   ]
  },
  {
   "cell_type": "code",
   "execution_count": 60,
   "metadata": {},
   "outputs": [],
   "source": [
    "random = {\"MSE\":533.326345614,\"MAE\":150.825619579,\"R2 Score\":96.354527965}"
   ]
  },
  {
   "cell_type": "code",
   "execution_count": 61,
   "metadata": {},
   "outputs": [],
   "source": [
    "grid = {\"MSE\":539.6257001053331,\"MAE\":151.333927621,\"R2 Score\":96.311469675}"
   ]
  },
  {
   "cell_type": "code",
   "execution_count": 62,
   "metadata": {},
   "outputs": [],
   "source": [
    "df = pd.DataFrame({'Normal':normal,'Random':random,'Grid':grid})"
   ]
  },
  {
   "cell_type": "code",
   "execution_count": 63,
   "metadata": {},
   "outputs": [
    {
     "data": {
      "text/plain": [
       "<AxesSubplot:>"
      ]
     },
     "execution_count": 63,
     "metadata": {},
     "output_type": "execute_result"
    },
    {
     "data": {
      "image/png": "[encoded data removed]",
      "text/plain": [
       "<Figure size 1440x720 with 1 Axes>"
      ]
     },
     "metadata": {
      "needs_background": "light"
     },
     "output_type": "display_data"
    }
   ],
   "source": [
    "df.plot.bar(figsize=(20,10))"
   ]
  },
  {
   "cell_type": "code",
   "execution_count": 64,
   "metadata": {},
   "outputs": [],
   "source": [
    "pickle.dump(gs_regressor,open('model_random_forrest_regressor.pkl','wb'))"
   ]
  },
  {
   "cell_type": "code",
   "execution_count": 65,
   "metadata": {},
   "outputs": [
    {
     "name": "stdout",
     "output_type": "stream",
     "text": [
      "app.py\t\t fuelType_info_dict.json  model_random_forrest_regressor.pkl\r\n",
      "comparision.png  main.ipynb\t\t  transmission_info_dict.json\r\n",
      "data\t\t model_info_dict.json\r\n"
     ]
    }
   ],
   "source": [
    "!ls"
   ]
  },
  {
   "cell_type": "code",
   "execution_count": 66,
   "metadata": {},
   "outputs": [],
   "source": [
    "model = pickle.load(open('model_random_forrest_regressor.pkl','rb'))"
   ]
  },
  {
   "cell_type": "code",
   "execution_count": 67,
   "metadata": {},
   "outputs": [
    {
     "data": {
      "text/plain": [
       "0.907051425616213"
      ]
     },
     "execution_count": 67,
     "metadata": {},
     "output_type": "execute_result"
    }
   ],
   "source": [
    "model.score(X_test,y_test)"
   ]
  },
  {
   "cell_type": "code",
   "execution_count": 68,
   "metadata": {},
   "outputs": [
    {
     "data": {
      "text/plain": [
       "Index(['model', 'year', 'price', 'transmission', 'mileage', 'fuelType', 'tax',\n",
       "       'mpg', 'engineSize'],\n",
       "      dtype='object')"
      ]
     },
     "execution_count": 68,
     "metadata": {},
     "output_type": "execute_result"
    }
   ],
   "source": [
    "data.columns"
   ]
  },
  {
   "cell_type": "code",
   "execution_count": 69,
   "metadata": {},
   "outputs": [
    {
     "data": {
      "text/html": [
       "<div>\n",
       "<style scoped>\n",
       "    .dataframe tbody tr th:only-of-type {\n",
       "        vertical-align: middle;\n",
       "    }\n",
       "\n",
       "    .dataframe tbody tr th {\n",
       "        vertical-align: top;\n",
       "    }\n",
       "\n",
       "    .dataframe thead th {\n",
       "        text-align: right;\n",
       "    }\n",
       "</style>\n",
       "<table border=\"1\" class=\"dataframe\">\n",
       "  <thead>\n",
       "    <tr style=\"text-align: right;\">\n",
       "      <th></th>\n",
       "      <th>model</th>\n",
       "      <th>year</th>\n",
       "      <th>transmission</th>\n",
       "      <th>mileage</th>\n",
       "      <th>fuelType</th>\n",
       "      <th>mpg</th>\n",
       "      <th>engineSize</th>\n",
       "    </tr>\n",
       "  </thead>\n",
       "  <tbody>\n",
       "    <tr>\n",
       "      <th>0</th>\n",
       "      <td>0</td>\n",
       "      <td>2017</td>\n",
       "      <td>0</td>\n",
       "      <td>15735</td>\n",
       "      <td>0</td>\n",
       "      <td>55.4</td>\n",
       "      <td>1.4</td>\n",
       "    </tr>\n",
       "    <tr>\n",
       "      <th>1</th>\n",
       "      <td>1</td>\n",
       "      <td>2016</td>\n",
       "      <td>1</td>\n",
       "      <td>36203</td>\n",
       "      <td>1</td>\n",
       "      <td>64.2</td>\n",
       "      <td>2.0</td>\n",
       "    </tr>\n",
       "    <tr>\n",
       "      <th>2</th>\n",
       "      <td>0</td>\n",
       "      <td>2016</td>\n",
       "      <td>0</td>\n",
       "      <td>29946</td>\n",
       "      <td>0</td>\n",
       "      <td>55.4</td>\n",
       "      <td>1.4</td>\n",
       "    </tr>\n",
       "    <tr>\n",
       "      <th>3</th>\n",
       "      <td>2</td>\n",
       "      <td>2017</td>\n",
       "      <td>1</td>\n",
       "      <td>25952</td>\n",
       "      <td>1</td>\n",
       "      <td>67.3</td>\n",
       "      <td>2.0</td>\n",
       "    </tr>\n",
       "    <tr>\n",
       "      <th>4</th>\n",
       "      <td>3</td>\n",
       "      <td>2019</td>\n",
       "      <td>0</td>\n",
       "      <td>1998</td>\n",
       "      <td>0</td>\n",
       "      <td>49.6</td>\n",
       "      <td>1.0</td>\n",
       "    </tr>\n",
       "    <tr>\n",
       "      <th>...</th>\n",
       "      <td>...</td>\n",
       "      <td>...</td>\n",
       "      <td>...</td>\n",
       "      <td>...</td>\n",
       "      <td>...</td>\n",
       "      <td>...</td>\n",
       "      <td>...</td>\n",
       "    </tr>\n",
       "    <tr>\n",
       "      <th>10663</th>\n",
       "      <td>3</td>\n",
       "      <td>2020</td>\n",
       "      <td>0</td>\n",
       "      <td>4018</td>\n",
       "      <td>0</td>\n",
       "      <td>49.6</td>\n",
       "      <td>1.0</td>\n",
       "    </tr>\n",
       "    <tr>\n",
       "      <th>10664</th>\n",
       "      <td>3</td>\n",
       "      <td>2020</td>\n",
       "      <td>0</td>\n",
       "      <td>1978</td>\n",
       "      <td>0</td>\n",
       "      <td>49.6</td>\n",
       "      <td>1.0</td>\n",
       "    </tr>\n",
       "    <tr>\n",
       "      <th>10665</th>\n",
       "      <td>3</td>\n",
       "      <td>2020</td>\n",
       "      <td>0</td>\n",
       "      <td>609</td>\n",
       "      <td>0</td>\n",
       "      <td>49.6</td>\n",
       "      <td>1.0</td>\n",
       "    </tr>\n",
       "    <tr>\n",
       "      <th>10666</th>\n",
       "      <td>4</td>\n",
       "      <td>2017</td>\n",
       "      <td>1</td>\n",
       "      <td>8646</td>\n",
       "      <td>0</td>\n",
       "      <td>47.9</td>\n",
       "      <td>1.4</td>\n",
       "    </tr>\n",
       "    <tr>\n",
       "      <th>10667</th>\n",
       "      <td>4</td>\n",
       "      <td>2016</td>\n",
       "      <td>0</td>\n",
       "      <td>11855</td>\n",
       "      <td>0</td>\n",
       "      <td>47.9</td>\n",
       "      <td>1.4</td>\n",
       "    </tr>\n",
       "  </tbody>\n",
       "</table>\n",
       "<p>10668 rows × 7 columns</p>\n",
       "</div>"
      ],
      "text/plain": [
       "       model  year  transmission  mileage  fuelType   mpg  engineSize\n",
       "0          0  2017             0    15735         0  55.4         1.4\n",
       "1          1  2016             1    36203         1  64.2         2.0\n",
       "2          0  2016             0    29946         0  55.4         1.4\n",
       "3          2  2017             1    25952         1  67.3         2.0\n",
       "4          3  2019             0     1998         0  49.6         1.0\n",
       "...      ...   ...           ...      ...       ...   ...         ...\n",
       "10663      3  2020             0     4018         0  49.6         1.0\n",
       "10664      3  2020             0     1978         0  49.6         1.0\n",
       "10665      3  2020             0      609         0  49.6         1.0\n",
       "10666      4  2017             1     8646         0  47.9         1.4\n",
       "10667      4  2016             0    11855         0  47.9         1.4\n",
       "\n",
       "[10668 rows x 7 columns]"
      ]
     },
     "execution_count": 69,
     "metadata": {},
     "output_type": "execute_result"
    }
   ],
   "source": [
    "X"
   ]
  },
  {
   "cell_type": "code",
   "execution_count": 70,
   "metadata": {},
   "outputs": [
    {
     "data": {
      "text/html": [
       "<div>\n",
       "<style scoped>\n",
       "    .dataframe tbody tr th:only-of-type {\n",
       "        vertical-align: middle;\n",
       "    }\n",
       "\n",
       "    .dataframe tbody tr th {\n",
       "        vertical-align: top;\n",
       "    }\n",
       "\n",
       "    .dataframe thead th {\n",
       "        text-align: right;\n",
       "    }\n",
       "</style>\n",
       "<table border=\"1\" class=\"dataframe\">\n",
       "  <thead>\n",
       "    <tr style=\"text-align: right;\">\n",
       "      <th></th>\n",
       "      <th>price</th>\n",
       "      <th>tax</th>\n",
       "    </tr>\n",
       "  </thead>\n",
       "  <tbody>\n",
       "    <tr>\n",
       "      <th>0</th>\n",
       "      <td>12500</td>\n",
       "      <td>150</td>\n",
       "    </tr>\n",
       "    <tr>\n",
       "      <th>1</th>\n",
       "      <td>16500</td>\n",
       "      <td>20</td>\n",
       "    </tr>\n",
       "    <tr>\n",
       "      <th>2</th>\n",
       "      <td>11000</td>\n",
       "      <td>30</td>\n",
       "    </tr>\n",
       "    <tr>\n",
       "      <th>3</th>\n",
       "      <td>16800</td>\n",
       "      <td>145</td>\n",
       "    </tr>\n",
       "    <tr>\n",
       "      <th>4</th>\n",
       "      <td>17300</td>\n",
       "      <td>145</td>\n",
       "    </tr>\n",
       "    <tr>\n",
       "      <th>...</th>\n",
       "      <td>...</td>\n",
       "      <td>...</td>\n",
       "    </tr>\n",
       "    <tr>\n",
       "      <th>10663</th>\n",
       "      <td>16999</td>\n",
       "      <td>145</td>\n",
       "    </tr>\n",
       "    <tr>\n",
       "      <th>10664</th>\n",
       "      <td>16999</td>\n",
       "      <td>150</td>\n",
       "    </tr>\n",
       "    <tr>\n",
       "      <th>10665</th>\n",
       "      <td>17199</td>\n",
       "      <td>150</td>\n",
       "    </tr>\n",
       "    <tr>\n",
       "      <th>10666</th>\n",
       "      <td>19499</td>\n",
       "      <td>150</td>\n",
       "    </tr>\n",
       "    <tr>\n",
       "      <th>10667</th>\n",
       "      <td>15999</td>\n",
       "      <td>150</td>\n",
       "    </tr>\n",
       "  </tbody>\n",
       "</table>\n",
       "<p>10668 rows × 2 columns</p>\n",
       "</div>"
      ],
      "text/plain": [
       "       price  tax\n",
       "0      12500  150\n",
       "1      16500   20\n",
       "2      11000   30\n",
       "3      16800  145\n",
       "4      17300  145\n",
       "...      ...  ...\n",
       "10663  16999  145\n",
       "10664  16999  150\n",
       "10665  17199  150\n",
       "10666  19499  150\n",
       "10667  15999  150\n",
       "\n",
       "[10668 rows x 2 columns]"
      ]
     },
     "execution_count": 70,
     "metadata": {},
     "output_type": "execute_result"
    }
   ],
   "source": [
    "y"
   ]
  },
  {
   "cell_type": "code",
   "execution_count": null,
   "metadata": {},
   "outputs": [],
   "source": []
  }
 ],
 "metadata": {
  "kernelspec": {
   "display_name": "Python 3",
   "language": "python",
   "name": "python3"
  },
  "language_info": {
   "codemirror_mode": {
    "name": "ipython",
    "version": 3
   },
   "file_extension": ".py",
   "mimetype": "text/x-python",
   "name": "python",
   "nbconvert_exporter": "python",
   "pygments_lexer": "ipython3",
   "version": "3.8.5"
  }
 },
 "nbformat": 4,
 "nbformat_minor": 4
}
